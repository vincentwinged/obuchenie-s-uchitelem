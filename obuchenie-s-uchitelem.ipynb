{
 "cells": [
  {
   "cell_type": "markdown",
   "metadata": {
    "toc": true
   },
   "source": [
    "<h1>Содержание<span class=\"tocSkip\"></span></h1>\n",
    "<div class=\"toc\"><ul class=\"toc-item\"><li><span><a href=\"#Подготовка-данных\" data-toc-modified-id=\"Подготовка-данных-1\"><span class=\"toc-item-num\">1&nbsp;&nbsp;</span>Подготовка данных</a></span></li><li><span><a href=\"#Качество-моделей-на-несбалансированных-данных\" data-toc-modified-id=\"Качество-моделей-на-несбалансированных-данных-2\"><span class=\"toc-item-num\">2&nbsp;&nbsp;</span>Качество моделей на несбалансированных данных</a></span><ul class=\"toc-item\"><li><span><a href=\"#RandomForest\" data-toc-modified-id=\"RandomForest-2.1\"><span class=\"toc-item-num\">2.1&nbsp;&nbsp;</span>RandomForest</a></span></li><li><span><a href=\"#LogisticRegression\" data-toc-modified-id=\"LogisticRegression-2.2\"><span class=\"toc-item-num\">2.2&nbsp;&nbsp;</span>LogisticRegression</a></span></li></ul></li><li><span><a href=\"#Борьба-с-дисбалансом\" data-toc-modified-id=\"Борьба-с-дисбалансом-3\"><span class=\"toc-item-num\">3&nbsp;&nbsp;</span>Борьба с дисбалансом</a></span><ul class=\"toc-item\"><li><span><a href=\"#Upsampling\" data-toc-modified-id=\"Upsampling-3.1\"><span class=\"toc-item-num\">3.1&nbsp;&nbsp;</span>Upsampling</a></span></li><li><span><a href=\"#Downsampling\" data-toc-modified-id=\"Downsampling-3.2\"><span class=\"toc-item-num\">3.2&nbsp;&nbsp;</span>Downsampling</a></span></li><li><span><a href=\"#Библиотека-Imblearn\" data-toc-modified-id=\"Библиотека-Imblearn-3.3\"><span class=\"toc-item-num\">3.3&nbsp;&nbsp;</span>Библиотека Imblearn</a></span><ul class=\"toc-item\"><li><span><a href=\"#SMOTE\" data-toc-modified-id=\"SMOTE-3.3.1\"><span class=\"toc-item-num\">3.3.1&nbsp;&nbsp;</span>SMOTE</a></span></li><li><span><a href=\"#ENN\" data-toc-modified-id=\"ENN-3.3.2\"><span class=\"toc-item-num\">3.3.2&nbsp;&nbsp;</span>ENN</a></span></li><li><span><a href=\"#SMOTEENN\" data-toc-modified-id=\"SMOTEENN-3.3.3\"><span class=\"toc-item-num\">3.3.3&nbsp;&nbsp;</span>SMOTEENN</a></span></li><li><span><a href=\"#SMOTETomek\" data-toc-modified-id=\"SMOTETomek-3.3.4\"><span class=\"toc-item-num\">3.3.4&nbsp;&nbsp;</span>SMOTETomek</a></span></li></ul></li><li><span><a href=\"#Результаты-балансировки\" data-toc-modified-id=\"Результаты-балансировки-3.4\"><span class=\"toc-item-num\">3.4&nbsp;&nbsp;</span>Результаты балансировки</a></span></li></ul></li><li><span><a href=\"#Тестирование-модели\" data-toc-modified-id=\"Тестирование-модели-4\"><span class=\"toc-item-num\">4&nbsp;&nbsp;</span>Тестирование модели</a></span></li><li><span><a href=\"#Вывод\" data-toc-modified-id=\"Вывод-5\"><span class=\"toc-item-num\">5&nbsp;&nbsp;</span>Вывод</a></span></li><li><span><a href=\"#Финальные-комментарии-ревьюера\" data-toc-modified-id=\"Финальные-комментарии-ревьюера-6\"><span class=\"toc-item-num\">6&nbsp;&nbsp;</span>Финальные комментарии ревьюера</a></span></li></ul></div>"
   ]
  },
  {
   "cell_type": "markdown",
   "metadata": {},
   "source": [
    "# Отток клиентов"
   ]
  },
  {
   "cell_type": "markdown",
   "metadata": {},
   "source": [
    "В нашем распоряжении исторические данные о поведении клиентов и расторжении договоров с «Бета-Банком». Нужно спрогнозировать, уйдёт клиент из банка в ближайшее время или нет.\n",
    "\n",
    "Необходимо протестировать различные модели и выбрать лучшую по метрике качества F1.\n",
    "\n",
    "Описание данных:\n",
    "* `RowNumber` — индекс строки в данных\n",
    "* `CustomerId` — уникальный идентификатор клиента\n",
    "* `Surname` — фамилия\n",
    "* `CreditScore` — кредитный рейтинг\n",
    "* `Geography` — страна проживания\n",
    "* `Gender` — пол\n",
    "* `Age` — возраст\n",
    "* `Tenure` — сколько лет человек является клиентом банка\n",
    "* `Balance` — баланс на счёте\n",
    "* `NumOfProducts` — количество продуктов банка, используемых клиентом\n",
    "* `HasCrCard` — наличие кредитной карты\n",
    "* `IsActiveMember` — активность клиента\n",
    "* `EstimatedSalary` — предполагаемая зарплата"
   ]
  },
  {
   "cell_type": "markdown",
   "metadata": {},
   "source": [
    "## Подготовка данных"
   ]
  },
  {
   "cell_type": "markdown",
   "metadata": {},
   "source": [
    "Импорт необходимых библиотек: `imblearn`, `pandas`, `sklearn`."
   ]
  },
  {
   "cell_type": "code",
   "execution_count": 1,
   "metadata": {},
   "outputs": [
    {
     "name": "stdout",
     "output_type": "stream",
     "text": [
      "Requirement already satisfied: imbalanced-learn in /home/jovyan/.local/lib/python3.9/site-packages (0.9.1)\n",
      "Requirement already satisfied: numpy>=1.17.3 in /opt/conda/lib/python3.9/site-packages (from imbalanced-learn) (1.21.1)\n",
      "Requirement already satisfied: scipy>=1.3.2 in /opt/conda/lib/python3.9/site-packages (from imbalanced-learn) (1.9.1)\n",
      "Requirement already satisfied: scikit-learn>=1.1.0 in /home/jovyan/.local/lib/python3.9/site-packages (from imbalanced-learn) (1.1.3)\n",
      "Requirement already satisfied: threadpoolctl>=2.0.0 in /opt/conda/lib/python3.9/site-packages (from imbalanced-learn) (3.1.0)\n",
      "Requirement already satisfied: joblib>=1.0.0 in /opt/conda/lib/python3.9/site-packages (from imbalanced-learn) (1.1.0)\n"
     ]
    }
   ],
   "source": [
    "!pip install -U imbalanced-learn --user  "
   ]
  },
  {
   "cell_type": "code",
   "execution_count": 2,
   "metadata": {},
   "outputs": [],
   "source": [
    "#conda install -c conda-forge imbalanced-learn                     #установка библиотеки imblearn (conda)\n",
    "#pip install -U imbalanced-learn                                   #установка библиотеки imblearn (pip)\n",
    "from imblearn.over_sampling import SMOTE\n",
    "from imblearn.under_sampling import EditedNearestNeighbours\n",
    "from imblearn.combine import SMOTEENN, SMOTETomek\n",
    "from imblearn.pipeline import Pipeline as imbpipeline\n",
    "\n",
    "import matplotlib.pyplot as plt\n",
    "import pandas as pd\n",
    "\n",
    "from sklearn.model_selection import train_test_split, GridSearchCV, RandomizedSearchCV\n",
    "from sklearn.preprocessing import StandardScaler\n",
    "from sklearn.pipeline import Pipeline\n",
    "from sklearn.ensemble import RandomForestClassifier\n",
    "from sklearn.linear_model import LogisticRegression\n",
    "from sklearn.utils import shuffle\n",
    "from sklearn.metrics import f1_score, roc_auc_score, roc_curve\n",
    "from sklearn.compose import ColumnTransformer"
   ]
  },
  {
   "cell_type": "markdown",
   "metadata": {},
   "source": [
    "Загружаем датасет, сохраняем в переменной `data`."
   ]
  },
  {
   "cell_type": "code",
   "execution_count": 3,
   "metadata": {},
   "outputs": [],
   "source": [
    "try:\n",
    "    data = pd.read_csv('/datasets/Churn.csv')\n",
    "except:\n",
    "    data = pd.read_csv('https://code.s3.yandex.net/datasets/Churn.csv')"
   ]
  },
  {
   "cell_type": "markdown",
   "metadata": {},
   "source": [
    "Выводим первые 10 строк датафрейма."
   ]
  },
  {
   "cell_type": "code",
   "execution_count": 4,
   "metadata": {
    "scrolled": false
   },
   "outputs": [
    {
     "data": {
      "text/html": [
       "<div>\n",
       "<style scoped>\n",
       "    .dataframe tbody tr th:only-of-type {\n",
       "        vertical-align: middle;\n",
       "    }\n",
       "\n",
       "    .dataframe tbody tr th {\n",
       "        vertical-align: top;\n",
       "    }\n",
       "\n",
       "    .dataframe thead th {\n",
       "        text-align: right;\n",
       "    }\n",
       "</style>\n",
       "<table border=\"1\" class=\"dataframe\">\n",
       "  <thead>\n",
       "    <tr style=\"text-align: right;\">\n",
       "      <th></th>\n",
       "      <th>RowNumber</th>\n",
       "      <th>CustomerId</th>\n",
       "      <th>Surname</th>\n",
       "      <th>CreditScore</th>\n",
       "      <th>Geography</th>\n",
       "      <th>Gender</th>\n",
       "      <th>Age</th>\n",
       "      <th>Tenure</th>\n",
       "      <th>Balance</th>\n",
       "      <th>NumOfProducts</th>\n",
       "      <th>HasCrCard</th>\n",
       "      <th>IsActiveMember</th>\n",
       "      <th>EstimatedSalary</th>\n",
       "      <th>Exited</th>\n",
       "    </tr>\n",
       "  </thead>\n",
       "  <tbody>\n",
       "    <tr>\n",
       "      <th>0</th>\n",
       "      <td>1</td>\n",
       "      <td>15634602</td>\n",
       "      <td>Hargrave</td>\n",
       "      <td>619</td>\n",
       "      <td>France</td>\n",
       "      <td>Female</td>\n",
       "      <td>42</td>\n",
       "      <td>2.0</td>\n",
       "      <td>0.00</td>\n",
       "      <td>1</td>\n",
       "      <td>1</td>\n",
       "      <td>1</td>\n",
       "      <td>101348.88</td>\n",
       "      <td>1</td>\n",
       "    </tr>\n",
       "    <tr>\n",
       "      <th>1</th>\n",
       "      <td>2</td>\n",
       "      <td>15647311</td>\n",
       "      <td>Hill</td>\n",
       "      <td>608</td>\n",
       "      <td>Spain</td>\n",
       "      <td>Female</td>\n",
       "      <td>41</td>\n",
       "      <td>1.0</td>\n",
       "      <td>83807.86</td>\n",
       "      <td>1</td>\n",
       "      <td>0</td>\n",
       "      <td>1</td>\n",
       "      <td>112542.58</td>\n",
       "      <td>0</td>\n",
       "    </tr>\n",
       "    <tr>\n",
       "      <th>2</th>\n",
       "      <td>3</td>\n",
       "      <td>15619304</td>\n",
       "      <td>Onio</td>\n",
       "      <td>502</td>\n",
       "      <td>France</td>\n",
       "      <td>Female</td>\n",
       "      <td>42</td>\n",
       "      <td>8.0</td>\n",
       "      <td>159660.80</td>\n",
       "      <td>3</td>\n",
       "      <td>1</td>\n",
       "      <td>0</td>\n",
       "      <td>113931.57</td>\n",
       "      <td>1</td>\n",
       "    </tr>\n",
       "    <tr>\n",
       "      <th>3</th>\n",
       "      <td>4</td>\n",
       "      <td>15701354</td>\n",
       "      <td>Boni</td>\n",
       "      <td>699</td>\n",
       "      <td>France</td>\n",
       "      <td>Female</td>\n",
       "      <td>39</td>\n",
       "      <td>1.0</td>\n",
       "      <td>0.00</td>\n",
       "      <td>2</td>\n",
       "      <td>0</td>\n",
       "      <td>0</td>\n",
       "      <td>93826.63</td>\n",
       "      <td>0</td>\n",
       "    </tr>\n",
       "    <tr>\n",
       "      <th>4</th>\n",
       "      <td>5</td>\n",
       "      <td>15737888</td>\n",
       "      <td>Mitchell</td>\n",
       "      <td>850</td>\n",
       "      <td>Spain</td>\n",
       "      <td>Female</td>\n",
       "      <td>43</td>\n",
       "      <td>2.0</td>\n",
       "      <td>125510.82</td>\n",
       "      <td>1</td>\n",
       "      <td>1</td>\n",
       "      <td>1</td>\n",
       "      <td>79084.10</td>\n",
       "      <td>0</td>\n",
       "    </tr>\n",
       "    <tr>\n",
       "      <th>5</th>\n",
       "      <td>6</td>\n",
       "      <td>15574012</td>\n",
       "      <td>Chu</td>\n",
       "      <td>645</td>\n",
       "      <td>Spain</td>\n",
       "      <td>Male</td>\n",
       "      <td>44</td>\n",
       "      <td>8.0</td>\n",
       "      <td>113755.78</td>\n",
       "      <td>2</td>\n",
       "      <td>1</td>\n",
       "      <td>0</td>\n",
       "      <td>149756.71</td>\n",
       "      <td>1</td>\n",
       "    </tr>\n",
       "    <tr>\n",
       "      <th>6</th>\n",
       "      <td>7</td>\n",
       "      <td>15592531</td>\n",
       "      <td>Bartlett</td>\n",
       "      <td>822</td>\n",
       "      <td>France</td>\n",
       "      <td>Male</td>\n",
       "      <td>50</td>\n",
       "      <td>7.0</td>\n",
       "      <td>0.00</td>\n",
       "      <td>2</td>\n",
       "      <td>1</td>\n",
       "      <td>1</td>\n",
       "      <td>10062.80</td>\n",
       "      <td>0</td>\n",
       "    </tr>\n",
       "    <tr>\n",
       "      <th>7</th>\n",
       "      <td>8</td>\n",
       "      <td>15656148</td>\n",
       "      <td>Obinna</td>\n",
       "      <td>376</td>\n",
       "      <td>Germany</td>\n",
       "      <td>Female</td>\n",
       "      <td>29</td>\n",
       "      <td>4.0</td>\n",
       "      <td>115046.74</td>\n",
       "      <td>4</td>\n",
       "      <td>1</td>\n",
       "      <td>0</td>\n",
       "      <td>119346.88</td>\n",
       "      <td>1</td>\n",
       "    </tr>\n",
       "    <tr>\n",
       "      <th>8</th>\n",
       "      <td>9</td>\n",
       "      <td>15792365</td>\n",
       "      <td>He</td>\n",
       "      <td>501</td>\n",
       "      <td>France</td>\n",
       "      <td>Male</td>\n",
       "      <td>44</td>\n",
       "      <td>4.0</td>\n",
       "      <td>142051.07</td>\n",
       "      <td>2</td>\n",
       "      <td>0</td>\n",
       "      <td>1</td>\n",
       "      <td>74940.50</td>\n",
       "      <td>0</td>\n",
       "    </tr>\n",
       "    <tr>\n",
       "      <th>9</th>\n",
       "      <td>10</td>\n",
       "      <td>15592389</td>\n",
       "      <td>H?</td>\n",
       "      <td>684</td>\n",
       "      <td>France</td>\n",
       "      <td>Male</td>\n",
       "      <td>27</td>\n",
       "      <td>2.0</td>\n",
       "      <td>134603.88</td>\n",
       "      <td>1</td>\n",
       "      <td>1</td>\n",
       "      <td>1</td>\n",
       "      <td>71725.73</td>\n",
       "      <td>0</td>\n",
       "    </tr>\n",
       "  </tbody>\n",
       "</table>\n",
       "</div>"
      ],
      "text/plain": [
       "   RowNumber  CustomerId   Surname  CreditScore Geography  Gender  Age  \\\n",
       "0          1    15634602  Hargrave          619    France  Female   42   \n",
       "1          2    15647311      Hill          608     Spain  Female   41   \n",
       "2          3    15619304      Onio          502    France  Female   42   \n",
       "3          4    15701354      Boni          699    France  Female   39   \n",
       "4          5    15737888  Mitchell          850     Spain  Female   43   \n",
       "5          6    15574012       Chu          645     Spain    Male   44   \n",
       "6          7    15592531  Bartlett          822    France    Male   50   \n",
       "7          8    15656148    Obinna          376   Germany  Female   29   \n",
       "8          9    15792365        He          501    France    Male   44   \n",
       "9         10    15592389        H?          684    France    Male   27   \n",
       "\n",
       "   Tenure    Balance  NumOfProducts  HasCrCard  IsActiveMember  \\\n",
       "0     2.0       0.00              1          1               1   \n",
       "1     1.0   83807.86              1          0               1   \n",
       "2     8.0  159660.80              3          1               0   \n",
       "3     1.0       0.00              2          0               0   \n",
       "4     2.0  125510.82              1          1               1   \n",
       "5     8.0  113755.78              2          1               0   \n",
       "6     7.0       0.00              2          1               1   \n",
       "7     4.0  115046.74              4          1               0   \n",
       "8     4.0  142051.07              2          0               1   \n",
       "9     2.0  134603.88              1          1               1   \n",
       "\n",
       "   EstimatedSalary  Exited  \n",
       "0        101348.88       1  \n",
       "1        112542.58       0  \n",
       "2        113931.57       1  \n",
       "3         93826.63       0  \n",
       "4         79084.10       0  \n",
       "5        149756.71       1  \n",
       "6         10062.80       0  \n",
       "7        119346.88       1  \n",
       "8         74940.50       0  \n",
       "9         71725.73       0  "
      ]
     },
     "execution_count": 4,
     "metadata": {},
     "output_type": "execute_result"
    }
   ],
   "source": [
    "data.head(10)"
   ]
  },
  {
   "cell_type": "markdown",
   "metadata": {},
   "source": [
    "Датасет записан корректно. Обратим внимание, что:\n",
    "- Названия столбцов для удобства лучше привести к строчному регистру.\n",
    "- При ближайшем рассмотрении выясняется, что столбцы **RowNumber**, **CustomerId**, **Surname** содержат уникальные идентификаторы и фамилии клиентов - т.е. информацию, которая не имеет ценности.\n",
    "- Столбец **exited** - наш target, целевой признак.\n",
    "\n",
    "Предстоит решить задачу бинарной классификации.\n",
    "\n",
    "Посмотрим на общую информацию о датафрейме."
   ]
  },
  {
   "cell_type": "code",
   "execution_count": 5,
   "metadata": {
    "scrolled": false
   },
   "outputs": [
    {
     "name": "stdout",
     "output_type": "stream",
     "text": [
      "<class 'pandas.core.frame.DataFrame'>\n",
      "RangeIndex: 10000 entries, 0 to 9999\n",
      "Data columns (total 14 columns):\n",
      " #   Column           Non-Null Count  Dtype  \n",
      "---  ------           --------------  -----  \n",
      " 0   RowNumber        10000 non-null  int64  \n",
      " 1   CustomerId       10000 non-null  int64  \n",
      " 2   Surname          10000 non-null  object \n",
      " 3   CreditScore      10000 non-null  int64  \n",
      " 4   Geography        10000 non-null  object \n",
      " 5   Gender           10000 non-null  object \n",
      " 6   Age              10000 non-null  int64  \n",
      " 7   Tenure           9091 non-null   float64\n",
      " 8   Balance          10000 non-null  float64\n",
      " 9   NumOfProducts    10000 non-null  int64  \n",
      " 10  HasCrCard        10000 non-null  int64  \n",
      " 11  IsActiveMember   10000 non-null  int64  \n",
      " 12  EstimatedSalary  10000 non-null  float64\n",
      " 13  Exited           10000 non-null  int64  \n",
      "dtypes: float64(3), int64(8), object(3)\n",
      "memory usage: 1.1+ MB\n"
     ]
    }
   ],
   "source": [
    "data.info()"
   ]
  },
  {
   "cell_type": "markdown",
   "metadata": {},
   "source": [
    "Датафрейм содержит 10000 объектов, столбец **Tenure** содержит примерно 9% пропусков, а тип данных необходимо привести к `int`.\n",
    "\n",
    "Для начала проверим датафрейм на наличие полные дубликатов строк."
   ]
  },
  {
   "cell_type": "code",
   "execution_count": 6,
   "metadata": {
    "scrolled": false
   },
   "outputs": [
    {
     "data": {
      "text/plain": [
       "0"
      ]
     },
     "execution_count": 6,
     "metadata": {},
     "output_type": "execute_result"
    }
   ],
   "source": [
    "data.duplicated().sum()"
   ]
  },
  {
   "cell_type": "markdown",
   "metadata": {},
   "source": [
    "Дубликатов нет.\n",
    "\n",
    "Переведем названия столбцов в строчный регистр и перепроверим результат."
   ]
  },
  {
   "cell_type": "code",
   "execution_count": 7,
   "metadata": {},
   "outputs": [
    {
     "data": {
      "text/plain": [
       "Index(['rownumber', 'customerid', 'surname', 'creditscore', 'geography',\n",
       "       'gender', 'age', 'tenure', 'balance', 'numofproducts', 'hascrcard',\n",
       "       'isactivemember', 'estimatedsalary', 'exited'],\n",
       "      dtype='object')"
      ]
     },
     "execution_count": 7,
     "metadata": {},
     "output_type": "execute_result"
    }
   ],
   "source": [
    "data.columns = data.columns.str.lower()\n",
    "data.columns"
   ]
  },
  {
   "cell_type": "markdown",
   "metadata": {},
   "source": [
    "Заполним пропуски в столбце **Tenure** медианным значением, рассчитанным для каждой подгруппы **Exited** → **Gender** → **Geography**."
   ]
  },
  {
   "cell_type": "code",
   "execution_count": 8,
   "metadata": {},
   "outputs": [
    {
     "data": {
      "text/plain": [
       "0"
      ]
     },
     "execution_count": 8,
     "metadata": {},
     "output_type": "execute_result"
    }
   ],
   "source": [
    "data['tenure'] = data['tenure'].fillna(data.groupby(['exited','gender','geography'])['tenure'].transform('median'))\n",
    "data.tenure.isna().sum()"
   ]
  },
  {
   "cell_type": "markdown",
   "metadata": {},
   "source": [
    "Пропусков в столбце нет.\n",
    "\n",
    "Приведем тип данных в столбце **Tenure** к `int` и избавимся от лишних столбцов."
   ]
  },
  {
   "cell_type": "code",
   "execution_count": 9,
   "metadata": {},
   "outputs": [],
   "source": [
    "data['tenure'] = data.tenure.astype('int')\n",
    "data = data.drop(['rownumber','customerid','surname'], axis=1)"
   ]
  },
  {
   "cell_type": "markdown",
   "metadata": {},
   "source": [
    "Посмотрим, как выглядят основные параметры описательной статистики."
   ]
  },
  {
   "cell_type": "code",
   "execution_count": 10,
   "metadata": {
    "scrolled": false
   },
   "outputs": [
    {
     "data": {
      "text/html": [
       "<div>\n",
       "<style scoped>\n",
       "    .dataframe tbody tr th:only-of-type {\n",
       "        vertical-align: middle;\n",
       "    }\n",
       "\n",
       "    .dataframe tbody tr th {\n",
       "        vertical-align: top;\n",
       "    }\n",
       "\n",
       "    .dataframe thead th {\n",
       "        text-align: right;\n",
       "    }\n",
       "</style>\n",
       "<table border=\"1\" class=\"dataframe\">\n",
       "  <thead>\n",
       "    <tr style=\"text-align: right;\">\n",
       "      <th></th>\n",
       "      <th>count</th>\n",
       "      <th>mean</th>\n",
       "      <th>std</th>\n",
       "      <th>min</th>\n",
       "      <th>25%</th>\n",
       "      <th>50%</th>\n",
       "      <th>75%</th>\n",
       "      <th>max</th>\n",
       "    </tr>\n",
       "  </thead>\n",
       "  <tbody>\n",
       "    <tr>\n",
       "      <th>creditscore</th>\n",
       "      <td>10000.0</td>\n",
       "      <td>650.528800</td>\n",
       "      <td>96.653299</td>\n",
       "      <td>350.00</td>\n",
       "      <td>584.00</td>\n",
       "      <td>652.000</td>\n",
       "      <td>718.0000</td>\n",
       "      <td>850.00</td>\n",
       "    </tr>\n",
       "    <tr>\n",
       "      <th>age</th>\n",
       "      <td>10000.0</td>\n",
       "      <td>38.921800</td>\n",
       "      <td>10.487806</td>\n",
       "      <td>18.00</td>\n",
       "      <td>32.00</td>\n",
       "      <td>37.000</td>\n",
       "      <td>44.0000</td>\n",
       "      <td>92.00</td>\n",
       "    </tr>\n",
       "    <tr>\n",
       "      <th>tenure</th>\n",
       "      <td>10000.0</td>\n",
       "      <td>4.991900</td>\n",
       "      <td>2.761086</td>\n",
       "      <td>0.00</td>\n",
       "      <td>3.00</td>\n",
       "      <td>5.000</td>\n",
       "      <td>7.0000</td>\n",
       "      <td>10.00</td>\n",
       "    </tr>\n",
       "    <tr>\n",
       "      <th>balance</th>\n",
       "      <td>10000.0</td>\n",
       "      <td>76485.889288</td>\n",
       "      <td>62397.405202</td>\n",
       "      <td>0.00</td>\n",
       "      <td>0.00</td>\n",
       "      <td>97198.540</td>\n",
       "      <td>127644.2400</td>\n",
       "      <td>250898.09</td>\n",
       "    </tr>\n",
       "    <tr>\n",
       "      <th>numofproducts</th>\n",
       "      <td>10000.0</td>\n",
       "      <td>1.530200</td>\n",
       "      <td>0.581654</td>\n",
       "      <td>1.00</td>\n",
       "      <td>1.00</td>\n",
       "      <td>1.000</td>\n",
       "      <td>2.0000</td>\n",
       "      <td>4.00</td>\n",
       "    </tr>\n",
       "    <tr>\n",
       "      <th>hascrcard</th>\n",
       "      <td>10000.0</td>\n",
       "      <td>0.705500</td>\n",
       "      <td>0.455840</td>\n",
       "      <td>0.00</td>\n",
       "      <td>0.00</td>\n",
       "      <td>1.000</td>\n",
       "      <td>1.0000</td>\n",
       "      <td>1.00</td>\n",
       "    </tr>\n",
       "    <tr>\n",
       "      <th>isactivemember</th>\n",
       "      <td>10000.0</td>\n",
       "      <td>0.515100</td>\n",
       "      <td>0.499797</td>\n",
       "      <td>0.00</td>\n",
       "      <td>0.00</td>\n",
       "      <td>1.000</td>\n",
       "      <td>1.0000</td>\n",
       "      <td>1.00</td>\n",
       "    </tr>\n",
       "    <tr>\n",
       "      <th>estimatedsalary</th>\n",
       "      <td>10000.0</td>\n",
       "      <td>100090.239881</td>\n",
       "      <td>57510.492818</td>\n",
       "      <td>11.58</td>\n",
       "      <td>51002.11</td>\n",
       "      <td>100193.915</td>\n",
       "      <td>149388.2475</td>\n",
       "      <td>199992.48</td>\n",
       "    </tr>\n",
       "    <tr>\n",
       "      <th>exited</th>\n",
       "      <td>10000.0</td>\n",
       "      <td>0.203700</td>\n",
       "      <td>0.402769</td>\n",
       "      <td>0.00</td>\n",
       "      <td>0.00</td>\n",
       "      <td>0.000</td>\n",
       "      <td>0.0000</td>\n",
       "      <td>1.00</td>\n",
       "    </tr>\n",
       "  </tbody>\n",
       "</table>\n",
       "</div>"
      ],
      "text/plain": [
       "                   count           mean           std     min       25%  \\\n",
       "creditscore      10000.0     650.528800     96.653299  350.00    584.00   \n",
       "age              10000.0      38.921800     10.487806   18.00     32.00   \n",
       "tenure           10000.0       4.991900      2.761086    0.00      3.00   \n",
       "balance          10000.0   76485.889288  62397.405202    0.00      0.00   \n",
       "numofproducts    10000.0       1.530200      0.581654    1.00      1.00   \n",
       "hascrcard        10000.0       0.705500      0.455840    0.00      0.00   \n",
       "isactivemember   10000.0       0.515100      0.499797    0.00      0.00   \n",
       "estimatedsalary  10000.0  100090.239881  57510.492818   11.58  51002.11   \n",
       "exited           10000.0       0.203700      0.402769    0.00      0.00   \n",
       "\n",
       "                        50%          75%        max  \n",
       "creditscore         652.000     718.0000     850.00  \n",
       "age                  37.000      44.0000      92.00  \n",
       "tenure                5.000       7.0000      10.00  \n",
       "balance           97198.540  127644.2400  250898.09  \n",
       "numofproducts         1.000       2.0000       4.00  \n",
       "hascrcard             1.000       1.0000       1.00  \n",
       "isactivemember        1.000       1.0000       1.00  \n",
       "estimatedsalary  100193.915  149388.2475  199992.48  \n",
       "exited                0.000       0.0000       1.00  "
      ]
     },
     "execution_count": 10,
     "metadata": {},
     "output_type": "execute_result"
    }
   ],
   "source": [
    "data.describe().T"
   ]
  },
  {
   "cell_type": "markdown",
   "metadata": {},
   "source": [
    "Данные не вызывают подозрений. Видим, что кредитный рейтинг всех клиентов находится в диапазоне от 350 до 850 баллов, возраст от 18 до 92 лет, 70% имеют кредитную карту исследуемого банка, а 51% имеют статус активного клиента.\n",
    "\n",
    "Построим общую гистограмму."
   ]
  },
  {
   "cell_type": "code",
   "execution_count": 11,
   "metadata": {},
   "outputs": [
    {
     "data": {
      "image/png": "[encoded data removed]",
      "text/plain": [
       "<Figure size 1080x648 with 9 Axes>"
      ]
     },
     "metadata": {
      "needs_background": "light"
     },
     "output_type": "display_data"
    }
   ],
   "source": [
    "data.hist(bins=25, figsize=(15,9));"
   ]
  },
  {
   "cell_type": "markdown",
   "metadata": {},
   "source": [
    "- Большинство клиентов имеют кредитный рейтинг на йровне 650-680 баллов, виден выброс в области 850 баллов.\n",
    "- Средний возраст клиента - 38 лет.\n",
    "- Почти треть клиентов не хранят средства в банке.\n",
    "- Предполагаемая зарплата распределена удивительно ровно. Вероятно, мы имеем дело со стратифицированной выборкой.\n",
    "\n",
    "Отдельно посмотрим на баланс классов целевого признака."
   ]
  },
  {
   "cell_type": "code",
   "execution_count": 12,
   "metadata": {},
   "outputs": [
    {
     "data": {
      "image/png": "[encoded data removed]",
      "text/plain": [
       "<Figure size 432x288 with 1 Axes>"
      ]
     },
     "metadata": {},
     "output_type": "display_data"
    }
   ],
   "source": [
    "data.exited.value_counts(normalize=True).plot(\n",
    "    kind='pie',\n",
    "    title='Распределение классов',\n",
    "    ylabel='',\n",
    "    autopct='%1.1f%%');"
   ]
  },
  {
   "cell_type": "markdown",
   "metadata": {},
   "source": [
    "Целевой признак не сбаллансирован. Доля ушедших клиентов в выборке 20,37%.\n",
    "\n",
    "Закодируем категориальные признакы с помощью One Hot Encoding."
   ]
  },
  {
   "cell_type": "code",
   "execution_count": 13,
   "metadata": {
    "scrolled": false
   },
   "outputs": [
    {
     "data": {
      "text/html": [
       "<div>\n",
       "<style scoped>\n",
       "    .dataframe tbody tr th:only-of-type {\n",
       "        vertical-align: middle;\n",
       "    }\n",
       "\n",
       "    .dataframe tbody tr th {\n",
       "        vertical-align: top;\n",
       "    }\n",
       "\n",
       "    .dataframe thead th {\n",
       "        text-align: right;\n",
       "    }\n",
       "</style>\n",
       "<table border=\"1\" class=\"dataframe\">\n",
       "  <thead>\n",
       "    <tr style=\"text-align: right;\">\n",
       "      <th></th>\n",
       "      <th>creditscore</th>\n",
       "      <th>age</th>\n",
       "      <th>tenure</th>\n",
       "      <th>balance</th>\n",
       "      <th>numofproducts</th>\n",
       "      <th>hascrcard</th>\n",
       "      <th>isactivemember</th>\n",
       "      <th>estimatedsalary</th>\n",
       "      <th>exited</th>\n",
       "      <th>geography_Germany</th>\n",
       "      <th>geography_Spain</th>\n",
       "      <th>gender_Male</th>\n",
       "    </tr>\n",
       "  </thead>\n",
       "  <tbody>\n",
       "    <tr>\n",
       "      <th>0</th>\n",
       "      <td>619</td>\n",
       "      <td>42</td>\n",
       "      <td>2</td>\n",
       "      <td>0.00</td>\n",
       "      <td>1</td>\n",
       "      <td>1</td>\n",
       "      <td>1</td>\n",
       "      <td>101348.88</td>\n",
       "      <td>1</td>\n",
       "      <td>0</td>\n",
       "      <td>0</td>\n",
       "      <td>0</td>\n",
       "    </tr>\n",
       "    <tr>\n",
       "      <th>1</th>\n",
       "      <td>608</td>\n",
       "      <td>41</td>\n",
       "      <td>1</td>\n",
       "      <td>83807.86</td>\n",
       "      <td>1</td>\n",
       "      <td>0</td>\n",
       "      <td>1</td>\n",
       "      <td>112542.58</td>\n",
       "      <td>0</td>\n",
       "      <td>0</td>\n",
       "      <td>1</td>\n",
       "      <td>0</td>\n",
       "    </tr>\n",
       "    <tr>\n",
       "      <th>2</th>\n",
       "      <td>502</td>\n",
       "      <td>42</td>\n",
       "      <td>8</td>\n",
       "      <td>159660.80</td>\n",
       "      <td>3</td>\n",
       "      <td>1</td>\n",
       "      <td>0</td>\n",
       "      <td>113931.57</td>\n",
       "      <td>1</td>\n",
       "      <td>0</td>\n",
       "      <td>0</td>\n",
       "      <td>0</td>\n",
       "    </tr>\n",
       "    <tr>\n",
       "      <th>3</th>\n",
       "      <td>699</td>\n",
       "      <td>39</td>\n",
       "      <td>1</td>\n",
       "      <td>0.00</td>\n",
       "      <td>2</td>\n",
       "      <td>0</td>\n",
       "      <td>0</td>\n",
       "      <td>93826.63</td>\n",
       "      <td>0</td>\n",
       "      <td>0</td>\n",
       "      <td>0</td>\n",
       "      <td>0</td>\n",
       "    </tr>\n",
       "    <tr>\n",
       "      <th>4</th>\n",
       "      <td>850</td>\n",
       "      <td>43</td>\n",
       "      <td>2</td>\n",
       "      <td>125510.82</td>\n",
       "      <td>1</td>\n",
       "      <td>1</td>\n",
       "      <td>1</td>\n",
       "      <td>79084.10</td>\n",
       "      <td>0</td>\n",
       "      <td>0</td>\n",
       "      <td>1</td>\n",
       "      <td>0</td>\n",
       "    </tr>\n",
       "    <tr>\n",
       "      <th>...</th>\n",
       "      <td>...</td>\n",
       "      <td>...</td>\n",
       "      <td>...</td>\n",
       "      <td>...</td>\n",
       "      <td>...</td>\n",
       "      <td>...</td>\n",
       "      <td>...</td>\n",
       "      <td>...</td>\n",
       "      <td>...</td>\n",
       "      <td>...</td>\n",
       "      <td>...</td>\n",
       "      <td>...</td>\n",
       "    </tr>\n",
       "    <tr>\n",
       "      <th>9995</th>\n",
       "      <td>771</td>\n",
       "      <td>39</td>\n",
       "      <td>5</td>\n",
       "      <td>0.00</td>\n",
       "      <td>2</td>\n",
       "      <td>1</td>\n",
       "      <td>0</td>\n",
       "      <td>96270.64</td>\n",
       "      <td>0</td>\n",
       "      <td>0</td>\n",
       "      <td>0</td>\n",
       "      <td>1</td>\n",
       "    </tr>\n",
       "    <tr>\n",
       "      <th>9996</th>\n",
       "      <td>516</td>\n",
       "      <td>35</td>\n",
       "      <td>10</td>\n",
       "      <td>57369.61</td>\n",
       "      <td>1</td>\n",
       "      <td>1</td>\n",
       "      <td>1</td>\n",
       "      <td>101699.77</td>\n",
       "      <td>0</td>\n",
       "      <td>0</td>\n",
       "      <td>0</td>\n",
       "      <td>1</td>\n",
       "    </tr>\n",
       "    <tr>\n",
       "      <th>9997</th>\n",
       "      <td>709</td>\n",
       "      <td>36</td>\n",
       "      <td>7</td>\n",
       "      <td>0.00</td>\n",
       "      <td>1</td>\n",
       "      <td>0</td>\n",
       "      <td>1</td>\n",
       "      <td>42085.58</td>\n",
       "      <td>1</td>\n",
       "      <td>0</td>\n",
       "      <td>0</td>\n",
       "      <td>0</td>\n",
       "    </tr>\n",
       "    <tr>\n",
       "      <th>9998</th>\n",
       "      <td>772</td>\n",
       "      <td>42</td>\n",
       "      <td>3</td>\n",
       "      <td>75075.31</td>\n",
       "      <td>2</td>\n",
       "      <td>1</td>\n",
       "      <td>0</td>\n",
       "      <td>92888.52</td>\n",
       "      <td>1</td>\n",
       "      <td>1</td>\n",
       "      <td>0</td>\n",
       "      <td>1</td>\n",
       "    </tr>\n",
       "    <tr>\n",
       "      <th>9999</th>\n",
       "      <td>792</td>\n",
       "      <td>28</td>\n",
       "      <td>5</td>\n",
       "      <td>130142.79</td>\n",
       "      <td>1</td>\n",
       "      <td>1</td>\n",
       "      <td>0</td>\n",
       "      <td>38190.78</td>\n",
       "      <td>0</td>\n",
       "      <td>0</td>\n",
       "      <td>0</td>\n",
       "      <td>0</td>\n",
       "    </tr>\n",
       "  </tbody>\n",
       "</table>\n",
       "<p>10000 rows × 12 columns</p>\n",
       "</div>"
      ],
      "text/plain": [
       "      creditscore  age  tenure    balance  numofproducts  hascrcard  \\\n",
       "0             619   42       2       0.00              1          1   \n",
       "1             608   41       1   83807.86              1          0   \n",
       "2             502   42       8  159660.80              3          1   \n",
       "3             699   39       1       0.00              2          0   \n",
       "4             850   43       2  125510.82              1          1   \n",
       "...           ...  ...     ...        ...            ...        ...   \n",
       "9995          771   39       5       0.00              2          1   \n",
       "9996          516   35      10   57369.61              1          1   \n",
       "9997          709   36       7       0.00              1          0   \n",
       "9998          772   42       3   75075.31              2          1   \n",
       "9999          792   28       5  130142.79              1          1   \n",
       "\n",
       "      isactivemember  estimatedsalary  exited  geography_Germany  \\\n",
       "0                  1        101348.88       1                  0   \n",
       "1                  1        112542.58       0                  0   \n",
       "2                  0        113931.57       1                  0   \n",
       "3                  0         93826.63       0                  0   \n",
       "4                  1         79084.10       0                  0   \n",
       "...              ...              ...     ...                ...   \n",
       "9995               0         96270.64       0                  0   \n",
       "9996               1        101699.77       0                  0   \n",
       "9997               1         42085.58       1                  0   \n",
       "9998               0         92888.52       1                  1   \n",
       "9999               0         38190.78       0                  0   \n",
       "\n",
       "      geography_Spain  gender_Male  \n",
       "0                   0            0  \n",
       "1                   1            0  \n",
       "2                   0            0  \n",
       "3                   0            0  \n",
       "4                   1            0  \n",
       "...               ...          ...  \n",
       "9995                0            1  \n",
       "9996                0            1  \n",
       "9997                0            0  \n",
       "9998                0            1  \n",
       "9999                0            0  \n",
       "\n",
       "[10000 rows x 12 columns]"
      ]
     },
     "execution_count": 13,
     "metadata": {},
     "output_type": "execute_result"
    }
   ],
   "source": [
    "data_ohe = pd.get_dummies(data, drop_first=True)\n",
    "data_ohe"
   ]
  },
  {
   "cell_type": "markdown",
   "metadata": {},
   "source": [
    "Категориальные признаки закодированы. Время разбить датасет на тренировочную и тестовую выборки."
   ]
  },
  {
   "cell_type": "code",
   "execution_count": 14,
   "metadata": {},
   "outputs": [
    {
     "data": {
      "text/plain": [
       "(0.20375, 0.2035)"
      ]
     },
     "execution_count": 14,
     "metadata": {},
     "output_type": "execute_result"
    }
   ],
   "source": [
    "train, test = train_test_split(data_ohe, \n",
    "                               test_size=0.2, \n",
    "                               stratify=data.exited, \n",
    "                               random_state=100)\n",
    "\n",
    "train.exited.mean(), test.exited.mean()"
   ]
  },
  {
   "cell_type": "markdown",
   "metadata": {},
   "source": [
    "Выборка разбита с сохранением распределения классов целевого признака.\n",
    "\n",
    "Отделим столбец с целевым признаком."
   ]
  },
  {
   "cell_type": "code",
   "execution_count": 15,
   "metadata": {},
   "outputs": [
    {
     "data": {
      "text/html": [
       "<div>\n",
       "<style scoped>\n",
       "    .dataframe tbody tr th:only-of-type {\n",
       "        vertical-align: middle;\n",
       "    }\n",
       "\n",
       "    .dataframe tbody tr th {\n",
       "        vertical-align: top;\n",
       "    }\n",
       "\n",
       "    .dataframe thead th {\n",
       "        text-align: right;\n",
       "    }\n",
       "</style>\n",
       "<table border=\"1\" class=\"dataframe\">\n",
       "  <thead>\n",
       "    <tr style=\"text-align: right;\">\n",
       "      <th></th>\n",
       "      <th>creditscore</th>\n",
       "      <th>age</th>\n",
       "      <th>tenure</th>\n",
       "      <th>balance</th>\n",
       "      <th>numofproducts</th>\n",
       "      <th>hascrcard</th>\n",
       "      <th>isactivemember</th>\n",
       "      <th>estimatedsalary</th>\n",
       "      <th>geography_Germany</th>\n",
       "      <th>geography_Spain</th>\n",
       "      <th>gender_Male</th>\n",
       "    </tr>\n",
       "  </thead>\n",
       "  <tbody>\n",
       "    <tr>\n",
       "      <th>1814</th>\n",
       "      <td>579</td>\n",
       "      <td>31</td>\n",
       "      <td>2</td>\n",
       "      <td>90547.48</td>\n",
       "      <td>2</td>\n",
       "      <td>1</td>\n",
       "      <td>1</td>\n",
       "      <td>18800.13</td>\n",
       "      <td>1</td>\n",
       "      <td>0</td>\n",
       "      <td>1</td>\n",
       "    </tr>\n",
       "    <tr>\n",
       "      <th>4060</th>\n",
       "      <td>640</td>\n",
       "      <td>29</td>\n",
       "      <td>4</td>\n",
       "      <td>0.00</td>\n",
       "      <td>2</td>\n",
       "      <td>1</td>\n",
       "      <td>0</td>\n",
       "      <td>44904.26</td>\n",
       "      <td>0</td>\n",
       "      <td>0</td>\n",
       "      <td>0</td>\n",
       "    </tr>\n",
       "    <tr>\n",
       "      <th>797</th>\n",
       "      <td>488</td>\n",
       "      <td>32</td>\n",
       "      <td>3</td>\n",
       "      <td>114540.38</td>\n",
       "      <td>1</td>\n",
       "      <td>1</td>\n",
       "      <td>0</td>\n",
       "      <td>92568.07</td>\n",
       "      <td>1</td>\n",
       "      <td>0</td>\n",
       "      <td>1</td>\n",
       "    </tr>\n",
       "    <tr>\n",
       "      <th>5158</th>\n",
       "      <td>587</td>\n",
       "      <td>55</td>\n",
       "      <td>9</td>\n",
       "      <td>0.00</td>\n",
       "      <td>1</td>\n",
       "      <td>1</td>\n",
       "      <td>0</td>\n",
       "      <td>64593.07</td>\n",
       "      <td>0</td>\n",
       "      <td>0</td>\n",
       "      <td>1</td>\n",
       "    </tr>\n",
       "    <tr>\n",
       "      <th>7950</th>\n",
       "      <td>516</td>\n",
       "      <td>33</td>\n",
       "      <td>10</td>\n",
       "      <td>138847.90</td>\n",
       "      <td>1</td>\n",
       "      <td>1</td>\n",
       "      <td>1</td>\n",
       "      <td>127256.70</td>\n",
       "      <td>1</td>\n",
       "      <td>0</td>\n",
       "      <td>0</td>\n",
       "    </tr>\n",
       "    <tr>\n",
       "      <th>...</th>\n",
       "      <td>...</td>\n",
       "      <td>...</td>\n",
       "      <td>...</td>\n",
       "      <td>...</td>\n",
       "      <td>...</td>\n",
       "      <td>...</td>\n",
       "      <td>...</td>\n",
       "      <td>...</td>\n",
       "      <td>...</td>\n",
       "      <td>...</td>\n",
       "      <td>...</td>\n",
       "    </tr>\n",
       "    <tr>\n",
       "      <th>1507</th>\n",
       "      <td>549</td>\n",
       "      <td>43</td>\n",
       "      <td>3</td>\n",
       "      <td>134985.66</td>\n",
       "      <td>1</td>\n",
       "      <td>1</td>\n",
       "      <td>0</td>\n",
       "      <td>6101.41</td>\n",
       "      <td>1</td>\n",
       "      <td>0</td>\n",
       "      <td>0</td>\n",
       "    </tr>\n",
       "    <tr>\n",
       "      <th>7026</th>\n",
       "      <td>677</td>\n",
       "      <td>27</td>\n",
       "      <td>5</td>\n",
       "      <td>0.00</td>\n",
       "      <td>2</td>\n",
       "      <td>0</td>\n",
       "      <td>1</td>\n",
       "      <td>114685.92</td>\n",
       "      <td>0</td>\n",
       "      <td>0</td>\n",
       "      <td>0</td>\n",
       "    </tr>\n",
       "    <tr>\n",
       "      <th>7601</th>\n",
       "      <td>828</td>\n",
       "      <td>31</td>\n",
       "      <td>9</td>\n",
       "      <td>0.00</td>\n",
       "      <td>1</td>\n",
       "      <td>0</td>\n",
       "      <td>1</td>\n",
       "      <td>164257.37</td>\n",
       "      <td>0</td>\n",
       "      <td>0</td>\n",
       "      <td>1</td>\n",
       "    </tr>\n",
       "    <tr>\n",
       "      <th>4595</th>\n",
       "      <td>743</td>\n",
       "      <td>65</td>\n",
       "      <td>2</td>\n",
       "      <td>131935.51</td>\n",
       "      <td>1</td>\n",
       "      <td>1</td>\n",
       "      <td>1</td>\n",
       "      <td>96399.67</td>\n",
       "      <td>1</td>\n",
       "      <td>0</td>\n",
       "      <td>1</td>\n",
       "    </tr>\n",
       "    <tr>\n",
       "      <th>5518</th>\n",
       "      <td>628</td>\n",
       "      <td>39</td>\n",
       "      <td>6</td>\n",
       "      <td>0.00</td>\n",
       "      <td>2</td>\n",
       "      <td>0</td>\n",
       "      <td>0</td>\n",
       "      <td>134441.60</td>\n",
       "      <td>0</td>\n",
       "      <td>0</td>\n",
       "      <td>1</td>\n",
       "    </tr>\n",
       "  </tbody>\n",
       "</table>\n",
       "<p>8000 rows × 11 columns</p>\n",
       "</div>"
      ],
      "text/plain": [
       "      creditscore  age  tenure    balance  numofproducts  hascrcard  \\\n",
       "1814          579   31       2   90547.48              2          1   \n",
       "4060          640   29       4       0.00              2          1   \n",
       "797           488   32       3  114540.38              1          1   \n",
       "5158          587   55       9       0.00              1          1   \n",
       "7950          516   33      10  138847.90              1          1   \n",
       "...           ...  ...     ...        ...            ...        ...   \n",
       "1507          549   43       3  134985.66              1          1   \n",
       "7026          677   27       5       0.00              2          0   \n",
       "7601          828   31       9       0.00              1          0   \n",
       "4595          743   65       2  131935.51              1          1   \n",
       "5518          628   39       6       0.00              2          0   \n",
       "\n",
       "      isactivemember  estimatedsalary  geography_Germany  geography_Spain  \\\n",
       "1814               1         18800.13                  1                0   \n",
       "4060               0         44904.26                  0                0   \n",
       "797                0         92568.07                  1                0   \n",
       "5158               0         64593.07                  0                0   \n",
       "7950               1        127256.70                  1                0   \n",
       "...              ...              ...                ...              ...   \n",
       "1507               0          6101.41                  1                0   \n",
       "7026               1        114685.92                  0                0   \n",
       "7601               1        164257.37                  0                0   \n",
       "4595               1         96399.67                  1                0   \n",
       "5518               0        134441.60                  0                0   \n",
       "\n",
       "      gender_Male  \n",
       "1814            1  \n",
       "4060            0  \n",
       "797             1  \n",
       "5158            1  \n",
       "7950            0  \n",
       "...           ...  \n",
       "1507            0  \n",
       "7026            0  \n",
       "7601            1  \n",
       "4595            1  \n",
       "5518            1  \n",
       "\n",
       "[8000 rows x 11 columns]"
      ]
     },
     "metadata": {},
     "output_type": "display_data"
    },
    {
     "data": {
      "text/plain": [
       "1814    0\n",
       "4060    0\n",
       "797     0\n",
       "5158    0\n",
       "7950    0\n",
       "       ..\n",
       "1507    0\n",
       "7026    0\n",
       "7601    0\n",
       "4595    1\n",
       "5518    0\n",
       "Name: exited, Length: 8000, dtype: int64"
      ]
     },
     "metadata": {},
     "output_type": "display_data"
    }
   ],
   "source": [
    "X_train = train.drop(['exited'], axis=1)\n",
    "y_train = train['exited']\n",
    "\n",
    "X_test = test.drop(['exited'], axis=1)\n",
    "y_test = test['exited']\n",
    "\n",
    "display(X_train, y_train)"
   ]
  },
  {
   "cell_type": "markdown",
   "metadata": {},
   "source": [
    "Данные подготовлены к обучению:\n",
    "- Устранены пропуски и некорректный тип данных в столбце Tenure.\n",
    "- Удалены столбцы RowNumber, CustomerId, Surname.\n",
    "- Исследован баланс классов.\n",
    "- Категориальные признаки Gender, Geography закодированы с помощью One Hot Encoding.\n",
    "- Датасет разделен на тренировочную и тестовые выборки."
   ]
  },
  {
   "cell_type": "markdown",
   "metadata": {},
   "source": [
    "## Качество моделей на несбалансированных данных"
   ]
  },
  {
   "cell_type": "markdown",
   "metadata": {},
   "source": [
    "Для решения задачи бинарной классификации будем сраванивать две модели: RandomForestClassifier и LogisticRegression."
   ]
  },
  {
   "cell_type": "markdown",
   "metadata": {},
   "source": [
    "### RandomForest"
   ]
  },
  {
   "cell_type": "markdown",
   "metadata": {},
   "source": [
    "Для выбора лучших гиперпараметров модели будем использовать RandomizedSearchCV - модуль, который создает модель для заданного количества случайных комбинаций гиперпараметров. Также этот модуль автоматически проведет кросс-валидацию модели с помощью (Stratified)KFold. Для оценки качества будет применяться метрика F1.\n",
    "\n",
    "*В целях ускорения вычислений, кол-во итераций для всех подобных инструментов будет минимальным. Лучшие результаты будут записаны отдельно.*"
   ]
  },
  {
   "cell_type": "code",
   "execution_count": 16,
   "metadata": {},
   "outputs": [
    {
     "name": "stdout",
     "output_type": "stream",
     "text": [
      "F1 on VALID: 0.60\n",
      "AUC-ROC on VALID: 0.86\n",
      "n_estimators      75\n",
      "max_features       8\n",
      "max_depth         11\n",
      "criterion       gini\n",
      "dtype: object\n",
      "\n",
      "F1 on TEST: 0.56\n",
      "AUC-ROC on TEST: 0.85\n"
     ]
    },
    {
     "data": {
      "image/png": "[encoded data removed]",
      "text/plain": [
       "<Figure size 504x504 with 1 Axes>"
      ]
     },
     "metadata": {
      "needs_background": "light"
     },
     "output_type": "display_data"
    }
   ],
   "source": [
    "clf = RandomForestClassifier(random_state=100)\n",
    "params_rf = {\n",
    "    'n_estimators':range(50, 150, 5),\n",
    "    'criterion':['gini','entropy'],\n",
    "    'max_depth':[8,9,10,11,12,13,14],\n",
    "    'max_features':[5,6,7,8,9,10]\n",
    "}\n",
    "\n",
    "metrics = ['f1', 'roc_auc']\n",
    "\n",
    "search = RandomizedSearchCV(clf, params_rf, n_iter=10, cv=4, scoring=metrics, refit='f1')\n",
    "search.fit(X_train, y_train)\n",
    "results = search.cv_results_\n",
    "\n",
    "# Вывод метрик, полученных при кросс-валидации\n",
    "print('F1 on VALID:', '%.2f' %search.best_score_)\n",
    "print('AUC-ROC on VALID:', '%.2f' %results['mean_test_roc_auc'].mean())\n",
    "print(pd.Series(search.best_params_))\n",
    "print()\n",
    "\n",
    "# Расчет метрик на тестовой выборке\n",
    "predictions_rf = search.predict(X_test)\n",
    "f1_rf = f1_score(y_test, predictions_rf)\n",
    "probabilities_rf = search.predict_proba(X_test)\n",
    "roc_auc_rf = roc_auc_score(y_test, probabilities_rf[:, 1])\n",
    "print('F1 on TEST:', '%.2f' %f1_rf)\n",
    "print('AUC-ROC on TEST:', '%.2f' %roc_auc_rf)\n",
    "\n",
    "# ROC-кривая\n",
    "fpr, tpr, thresholds = roc_curve(y_test, probabilities_rf[:, 1])\n",
    "plt.figure(figsize=(7,7))\n",
    "plt.plot(fpr, tpr)\n",
    "plt.plot([0, 1], [0, 1], linestyle='--')\n",
    "plt.xlim([0.0, 1.0])\n",
    "plt.ylim([0.0, 1.0])\n",
    "plt.xlabel('False Positive Rate')\n",
    "plt.ylabel('True Positive Rate')\n",
    "plt.title('ROC-кривая')\n",
    "plt.show()"
   ]
  },
  {
   "cell_type": "markdown",
   "metadata": {},
   "source": [
    "Параметры лучшей модели:\n",
    "\n",
    "F1 on VALID: 0.60\n",
    "AUC-ROC on VALID: 0.86\n",
    "- n_estimators      85\n",
    "- max_features       8\n",
    "- max_depth         11\n",
    "- criterion       gini\n",
    "\n",
    "F1 on TEST: 0.56\n",
    "AUC-ROC on TEST: 0.85"
   ]
  },
  {
   "cell_type": "markdown",
   "metadata": {},
   "source": [
    "### LogisticRegression"
   ]
  },
  {
   "cell_type": "markdown",
   "metadata": {},
   "source": [
    "Извесно, что стандартизация данных может значительно улучшить метрики качества модели логистической регрессии. Для того, чтобы совместить возможность использования модуля GridSearchCV со стандартизацией данных, попробуем использовать `Pipeline` из библиотеки `sklearn`. Этот шаг позволит избежать утечки данных в валидационную выборку на стадии кросс-валидации.\n",
    "\n",
    "Также для моделей логистической регрессии будем просчитывать две метрики: f1 и auc-roc. Метрику auc-roc будем извлекать из `cv_results_`."
   ]
  },
  {
   "cell_type": "code",
   "execution_count": 17,
   "metadata": {},
   "outputs": [
    {
     "name": "stdout",
     "output_type": "stream",
     "text": [
      "F1 on VALID: 0.50\n",
      "AUC-ROC on VALID: 0.77\n",
      "lr__class_weight     balanced\n",
      "lr__max_iter              100\n",
      "lr__solver          liblinear\n",
      "dtype: object\n",
      "\n",
      "F1 on TEST: 0.49\n",
      "AUC-ROC on TEST: 0.77\n"
     ]
    },
    {
     "data": {
      "image/png": "[encoded data removed]",
      "text/plain": [
       "<Figure size 504x504 with 1 Axes>"
      ]
     },
     "metadata": {
      "needs_background": "light"
     },
     "output_type": "display_data"
    }
   ],
   "source": [
    "preprocessor = ColumnTransformer(\n",
    "    transformers=[('scaler', StandardScaler(), ['creditscore','age','tenure','balance','numofproducts','estimatedsalary'])],\n",
    "    remainder='passthrough'\n",
    ")\n",
    "\n",
    "pipeline_lr = Pipeline([\n",
    "    ('preprocessor', preprocessor), \n",
    "    ('lr', LogisticRegression(random_state=100))\n",
    "])\n",
    "\n",
    "params_lr = {\n",
    "    'lr__class_weight':[None,'balanced'],\n",
    "    'lr__solver':['lbfgs','liblinear'],\n",
    "    'lr__max_iter':[100, 500, 1000, 2000],\n",
    "}\n",
    "\n",
    "metrics = ['f1', 'roc_auc']\n",
    "\n",
    "grid = GridSearchCV(pipeline_lr, params_lr, cv=4, scoring=metrics, refit='f1')\n",
    "grid.fit(X_train, y_train)\n",
    "results = grid.cv_results_\n",
    "\n",
    "# Вывод метрик, полученных при кросс-валидации\n",
    "print('F1 on VALID:', '%.2f' %grid.best_score_)\n",
    "print('AUC-ROC on VALID:', '%.2f' %results['mean_test_roc_auc'].mean())\n",
    "print(pd.Series(grid.best_params_))\n",
    "print()\n",
    "\n",
    "# Расчет метрик на тестовой выборке\n",
    "predictions_lr = grid.predict(X_test)\n",
    "f1_lr = f1_score(y_test, predictions_lr)\n",
    "probabilities_lr = grid.predict_proba(X_test)\n",
    "roc_auc_lr = roc_auc_score(y_test, probabilities_lr[:, 1])\n",
    "print('F1 on TEST:', '%.2f' %f1_lr)\n",
    "print('AUC-ROC on TEST:', '%.2f' %roc_auc_lr)\n",
    "\n",
    "# ROC-кривая\n",
    "fpr, tpr, thresholds = roc_curve(y_test, probabilities_lr[:, 1])\n",
    "plt.figure(figsize=(7,7))\n",
    "plt.plot(fpr, tpr)\n",
    "plt.plot([0, 1], [0, 1], linestyle='--')\n",
    "plt.xlim([0.0, 1.0])\n",
    "plt.ylim([0.0, 1.0])\n",
    "plt.xlabel('False Positive Rate')\n",
    "plt.ylabel('True Positive Rate')\n",
    "plt.title('ROC-кривая')\n",
    "plt.show()"
   ]
  },
  {
   "cell_type": "markdown",
   "metadata": {},
   "source": [
    "Видим, что при встроенной балансировке классов модель показала результат F1:0.49, AUC-ROC:0.77, что заметно хуже, чем модель случайного леса. Для того, чтобы узнать метрику F1 для модели, построенной на несбалансированных данных, обратимся к `cv_results_`"
   ]
  },
  {
   "cell_type": "code",
   "execution_count": 18,
   "metadata": {
    "scrolled": true
   },
   "outputs": [
    {
     "data": {
      "text/html": [
       "<div>\n",
       "<style scoped>\n",
       "    .dataframe tbody tr th:only-of-type {\n",
       "        vertical-align: middle;\n",
       "    }\n",
       "\n",
       "    .dataframe tbody tr th {\n",
       "        vertical-align: top;\n",
       "    }\n",
       "\n",
       "    .dataframe thead th {\n",
       "        text-align: right;\n",
       "    }\n",
       "</style>\n",
       "<table border=\"1\" class=\"dataframe\">\n",
       "  <thead>\n",
       "    <tr style=\"text-align: right;\">\n",
       "      <th></th>\n",
       "      <th>0</th>\n",
       "      <th>1</th>\n",
       "      <th>2</th>\n",
       "      <th>3</th>\n",
       "      <th>4</th>\n",
       "      <th>5</th>\n",
       "      <th>6</th>\n",
       "      <th>7</th>\n",
       "      <th>8</th>\n",
       "      <th>9</th>\n",
       "      <th>10</th>\n",
       "      <th>11</th>\n",
       "      <th>12</th>\n",
       "      <th>13</th>\n",
       "      <th>14</th>\n",
       "      <th>15</th>\n",
       "    </tr>\n",
       "  </thead>\n",
       "  <tbody>\n",
       "    <tr>\n",
       "      <th>0</th>\n",
       "      <td>None</td>\n",
       "      <td>None</td>\n",
       "      <td>None</td>\n",
       "      <td>None</td>\n",
       "      <td>None</td>\n",
       "      <td>None</td>\n",
       "      <td>None</td>\n",
       "      <td>None</td>\n",
       "      <td>balanced</td>\n",
       "      <td>balanced</td>\n",
       "      <td>balanced</td>\n",
       "      <td>balanced</td>\n",
       "      <td>balanced</td>\n",
       "      <td>balanced</td>\n",
       "      <td>balanced</td>\n",
       "      <td>balanced</td>\n",
       "    </tr>\n",
       "    <tr>\n",
       "      <th>1</th>\n",
       "      <td>0.324315</td>\n",
       "      <td>0.325666</td>\n",
       "      <td>0.324315</td>\n",
       "      <td>0.325666</td>\n",
       "      <td>0.324315</td>\n",
       "      <td>0.325666</td>\n",
       "      <td>0.324315</td>\n",
       "      <td>0.325666</td>\n",
       "      <td>0.497209</td>\n",
       "      <td>0.49743</td>\n",
       "      <td>0.497209</td>\n",
       "      <td>0.49743</td>\n",
       "      <td>0.497209</td>\n",
       "      <td>0.49743</td>\n",
       "      <td>0.497209</td>\n",
       "      <td>0.49743</td>\n",
       "    </tr>\n",
       "  </tbody>\n",
       "</table>\n",
       "</div>"
      ],
      "text/plain": [
       "         0         1         2         3         4         5         6   \\\n",
       "0      None      None      None      None      None      None      None   \n",
       "1  0.324315  0.325666  0.324315  0.325666  0.324315  0.325666  0.324315   \n",
       "\n",
       "         7         8         9         10        11        12        13  \\\n",
       "0      None  balanced  balanced  balanced  balanced  balanced  balanced   \n",
       "1  0.325666  0.497209   0.49743  0.497209   0.49743  0.497209   0.49743   \n",
       "\n",
       "         14        15  \n",
       "0  balanced  balanced  \n",
       "1  0.497209   0.49743  "
      ]
     },
     "execution_count": 18,
     "metadata": {},
     "output_type": "execute_result"
    }
   ],
   "source": [
    "pd.concat([pd.Series(results['param_lr__class_weight']), pd.Series(results['mean_test_f1'])], axis=1).T"
   ]
  },
  {
   "cell_type": "markdown",
   "metadata": {},
   "source": [
    "Без балансировки модель показывает результат F1:0,32. Также можно заметить, что метрика AUC-ROC при этом практически не меняется."
   ]
  },
  {
   "cell_type": "markdown",
   "metadata": {},
   "source": [
    "## Борьба с дисбалансом"
   ]
  },
  {
   "cell_type": "markdown",
   "metadata": {},
   "source": [
    "Проверим, улучшатся ли метрики качества, если для построения моделей использовать более сбалансированные варианты датасета. Для начала протестируем самый простой способ: увеличим кол-во объектов недопредставленного класса (ушедшие клиенты, exited = 1) с помощью функции upsample."
   ]
  },
  {
   "cell_type": "markdown",
   "metadata": {},
   "source": [
    "### Upsampling"
   ]
  },
  {
   "cell_type": "markdown",
   "metadata": {},
   "source": [
    "Создадим функцию, которая устранит дисбаланс, увеличив количество объектов недопредставленного класса."
   ]
  },
  {
   "cell_type": "code",
   "execution_count": 19,
   "metadata": {},
   "outputs": [
    {
     "data": {
      "text/plain": [
       "((12890, 11), (12890,), 0.5058184639255237)"
      ]
     },
     "execution_count": 19,
     "metadata": {},
     "output_type": "execute_result"
    }
   ],
   "source": [
    "def upsample(features, target, repeat):\n",
    "    \n",
    "    features_zeros = features[target == 0]\n",
    "    features_ones = features[target == 1]\n",
    "    target_zeros = target[target == 0]\n",
    "    target_ones = target[target == 1]\n",
    "    \n",
    "    features_upsampled = pd.concat([features_zeros] + [features_ones] * repeat)\n",
    "    target_upsampled = pd.concat([target_zeros] + [target_ones] * repeat)\n",
    "    \n",
    "    features_upsampled = shuffle(features_upsampled, random_state=100)\n",
    "    target_upsampled = shuffle(target_upsampled, random_state=100)\n",
    "    \n",
    "    return features_upsampled, target_upsampled\n",
    "\n",
    "X_train_upsampled, y_train_upsampled = upsample(X_train, y_train, 4)\n",
    "X_train_upsampled.shape, y_train_upsampled.shape, y_train_upsampled.mean()"
   ]
  },
  {
   "cell_type": "markdown",
   "metadata": {},
   "source": [
    "Целевой признак сбалансирован, количество единиц сосатвляет 50.58%.\n",
    "\n",
    "Построим модель случайного леса, однако в этот раз обучим ее на сбалансированном датасете."
   ]
  },
  {
   "cell_type": "code",
   "execution_count": 20,
   "metadata": {},
   "outputs": [
    {
     "name": "stdout",
     "output_type": "stream",
     "text": [
      "F1 on VALID: 0.932863453105718\n",
      "AUC-ROC on VALID: 0.9460053110933124\n",
      "n_estimators         50\n",
      "max_features          6\n",
      "max_depth            14\n",
      "criterion       entropy\n",
      "dtype: object\n",
      "\n",
      "F1 on TEST: 0.5836385836385837\n",
      "AUC-ROC on TEST: 0.8397002549544923\n"
     ]
    },
    {
     "data": {
      "image/png": "[encoded data removed]",
      "text/plain": [
       "<Figure size 504x504 with 1 Axes>"
      ]
     },
     "metadata": {
      "needs_background": "light"
     },
     "output_type": "display_data"
    }
   ],
   "source": [
    "clf = RandomForestClassifier(random_state=100)\n",
    "params_rf = {\n",
    "    'n_estimators':range(50, 150, 5),\n",
    "    'criterion':['gini','entropy'],\n",
    "    'max_depth':[8,9,10,11,12,13,14],\n",
    "    'max_features':[5,6,7,8,9,10]\n",
    "}\n",
    "\n",
    "metrics = ['f1', 'roc_auc']\n",
    "\n",
    "search = RandomizedSearchCV(clf, params_rf, n_iter=10, cv=4, scoring=metrics, refit='f1')\n",
    "search.fit(X_train_upsampled, y_train_upsampled)\n",
    "results = search.cv_results_\n",
    "\n",
    "# Вывод метрик, полученных при кросс-валидации\n",
    "print('F1 on VALID:', search.best_score_)\n",
    "print('AUC-ROC on VALID:', results['mean_test_roc_auc'].mean())\n",
    "print(pd.Series(search.best_params_))\n",
    "print()\n",
    "\n",
    "# Расчет метрик на тестовой выборке\n",
    "predictions_rf = search.predict(X_test)\n",
    "f1_rf = f1_score(y_test, predictions_rf)\n",
    "probabilities_rf = search.predict_proba(X_test)\n",
    "roc_auc_rf = roc_auc_score(y_test, probabilities_rf[:, 1])\n",
    "print('F1 on TEST:', f1_rf)\n",
    "print('AUC-ROC on TEST:', roc_auc_rf)\n",
    "\n",
    "# ROC-кривая\n",
    "fpr, tpr, thresholds = roc_curve(y_test, probabilities_rf[:, 1])\n",
    "plt.figure(figsize=(7,7))\n",
    "plt.plot(fpr, tpr)\n",
    "plt.plot([0, 1], [0, 1], linestyle='--')\n",
    "plt.xlim([0.0, 1.0])\n",
    "plt.ylim([0.0, 1.0])\n",
    "plt.xlabel('False Positive Rate')\n",
    "plt.ylabel('True Positive Rate')\n",
    "plt.title('ROC-кривая')\n",
    "plt.show()"
   ]
  },
  {
   "cell_type": "markdown",
   "metadata": {},
   "source": [
    "Параметры лучшей модели:\n",
    "\n",
    "F1 on VALID: 0.931350553362873\n",
    "AUC-ROC on VALID: 0.9441223869883533\n",
    "- n_estimators     120\n",
    "- max_features      10\n",
    "- max_depth         14\n",
    "- criterion       gini\n",
    "\n",
    "F1 on TEST: 0.5824039653035935\n",
    "AUC-ROC on TEST: 0.8322891458484679"
   ]
  },
  {
   "cell_type": "markdown",
   "metadata": {},
   "source": [
    "Видим, что модель явно переобучилась и показывает слишком хорошие метрики на валидационной выборке. На тестовой выборке модель улучшила F1 примерно на 2,5%.\n",
    "\n",
    "Теперь построим модель логистической регрессии."
   ]
  },
  {
   "cell_type": "code",
   "execution_count": 21,
   "metadata": {},
   "outputs": [
    {
     "name": "stdout",
     "output_type": "stream",
     "text": [
      "F1 on VALID: 0.7068701478867796\n",
      "AUC-ROC on VALID: 0.7694434367991932\n",
      "lr__max_iter           50\n",
      "lr__solver      liblinear\n",
      "dtype: object\n",
      "\n",
      "F1 on TEST: 0.4916003536693192\n",
      "AUC-ROC on TEST: 0.7727265015400608\n"
     ]
    },
    {
     "data": {
      "image/png": "[encoded data removed]",
      "text/plain": [
       "<Figure size 504x504 with 1 Axes>"
      ]
     },
     "metadata": {
      "needs_background": "light"
     },
     "output_type": "display_data"
    }
   ],
   "source": [
    "preprocessor = ColumnTransformer(\n",
    "    transformers=[('scaler', StandardScaler(), ['creditscore','age','tenure','balance','numofproducts','estimatedsalary'])],\n",
    "    remainder='passthrough'\n",
    ")\n",
    "\n",
    "pipeline_lr = Pipeline([\n",
    "    ('preprocessor', preprocessor), \n",
    "    ('lr', LogisticRegression(random_state=100))\n",
    "])\n",
    "\n",
    "params_lr = {\n",
    "    'lr__solver':['lbfgs','liblinear'],\n",
    "    'lr__max_iter':[50, 100, 500, 1000, 2000],\n",
    "}\n",
    "\n",
    "metrics = ['f1', 'roc_auc']\n",
    "\n",
    "grid = GridSearchCV(pipeline_lr, params_lr, cv=4, scoring=metrics, refit='f1')\n",
    "grid.fit(X_train_upsampled, y_train_upsampled)\n",
    "results = grid.cv_results_\n",
    "\n",
    "# Вывод метрик, полученных при кросс-валидации\n",
    "print('F1 on VALID:', grid.best_score_)\n",
    "print('AUC-ROC on VALID:', results['mean_test_roc_auc'].mean())\n",
    "print(pd.Series(grid.best_params_))\n",
    "print()\n",
    "\n",
    "# Расчет метрик на тестовой выборке\n",
    "predictions_lr = grid.predict(X_test)\n",
    "f1_lr = f1_score(y_test, predictions_lr)\n",
    "probabilities_lr = grid.predict_proba(X_test)\n",
    "roc_auc_lr = roc_auc_score(y_test, probabilities_lr[:, 1])\n",
    "print('F1 on TEST:', f1_lr)\n",
    "print('AUC-ROC on TEST:', roc_auc_lr)\n",
    "\n",
    "# ROC-кривая\n",
    "fpr, tpr, thresholds = roc_curve(y_test, probabilities_lr[:, 1])\n",
    "plt.figure(figsize=(7,7))\n",
    "plt.plot(fpr, tpr)\n",
    "plt.plot([0, 1], [0, 1], linestyle='--')\n",
    "plt.xlim([0.0, 1.0])\n",
    "plt.ylim([0.0, 1.0])\n",
    "plt.xlabel('False Positive Rate')\n",
    "plt.ylabel('True Positive Rate')\n",
    "plt.title('ROC-кривая')\n",
    "plt.show()"
   ]
  },
  {
   "cell_type": "markdown",
   "metadata": {},
   "source": [
    "На тестовом наборе данных модель показывает худшие метрики качества, чем модель, обученная на несбалансированных данных с гиперпараметром `class_weight='balanced'`."
   ]
  },
  {
   "cell_type": "markdown",
   "metadata": {},
   "source": [
    "### Downsampling\n",
    "\n",
    "Теперь проведем обратную операцию: случайным образом уменьшим долю объектов перепредставленного класса (оставшиеся клиенты, exited = 0)."
   ]
  },
  {
   "cell_type": "code",
   "execution_count": 22,
   "metadata": {},
   "outputs": [
    {
     "data": {
      "text/plain": [
       "((3222, 11), (3222,), 0.5058969584109249)"
      ]
     },
     "execution_count": 22,
     "metadata": {},
     "output_type": "execute_result"
    }
   ],
   "source": [
    "def downsample(features, target, fraction):\n",
    "    features_zeros = features[target == 0]\n",
    "    features_ones = features[target == 1]\n",
    "    target_zeros = target[target == 0]\n",
    "    target_ones = target[target == 1]\n",
    "\n",
    "    features_sample = features_zeros.sample(frac=fraction, random_state=100)\n",
    "    target_sample = target_zeros.sample(frac=fraction, random_state=100)\n",
    "    \n",
    "    features_downsampled = pd.concat([features_sample] + [features_ones])\n",
    "    target_downsampled = pd.concat([target_sample] + [target_ones])\n",
    "    \n",
    "    features_downsampled = shuffle(features_downsampled, random_state=100)\n",
    "    target_downsampled = shuffle(target_downsampled, random_state=100)\n",
    "    \n",
    "    return features_downsampled, target_downsampled\n",
    "\n",
    "X_train_downsampled, y_train_downsampled = downsample(X_train, y_train, 0.25)\n",
    "X_train_downsampled.shape, y_train_downsampled.shape, y_train_downsampled.mean()"
   ]
  },
  {
   "cell_type": "markdown",
   "metadata": {},
   "source": [
    "Целевой признак сбалансирован, построим модель случайного леса."
   ]
  },
  {
   "cell_type": "code",
   "execution_count": 23,
   "metadata": {},
   "outputs": [
    {
     "name": "stdout",
     "output_type": "stream",
     "text": [
      "F1 on VALID: 0.7761172313563092\n",
      "AUC-ROC on VALID: 0.8509629905834274\n",
      "n_estimators         55\n",
      "max_features          6\n",
      "max_depth            11\n",
      "criterion       entropy\n",
      "dtype: object\n",
      "\n",
      "F1 on TEST: 0.579624134520277\n",
      "AUC-ROC on TEST: 0.8525598017123441\n"
     ]
    },
    {
     "data": {
      "image/png": "[encoded data removed]",
      "text/plain": [
       "<Figure size 504x504 with 1 Axes>"
      ]
     },
     "metadata": {
      "needs_background": "light"
     },
     "output_type": "display_data"
    }
   ],
   "source": [
    "clf = RandomForestClassifier(random_state=100)\n",
    "params_rf = {\n",
    "    'n_estimators':range(50, 150, 5),\n",
    "    'criterion':['gini','entropy'],\n",
    "    'max_depth':[8,9,10,11,12,13,14],\n",
    "    'max_features':[5,6,7,8,9,10]\n",
    "}\n",
    "\n",
    "metrics = ['f1', 'roc_auc']\n",
    "\n",
    "search = RandomizedSearchCV(clf, params_rf, n_iter=10, cv=4, scoring=metrics, refit='f1')\n",
    "search.fit(X_train_downsampled, y_train_downsampled)\n",
    "results = search.cv_results_\n",
    "\n",
    "# Вывод метрик, полученных при кросс-валидации\n",
    "print('F1 on VALID:', search.best_score_)\n",
    "print('AUC-ROC on VALID:', results['mean_test_roc_auc'].mean())\n",
    "print(pd.Series(search.best_params_))\n",
    "print()\n",
    "\n",
    "# Расчет метрик на тестовой выборке\n",
    "predictions_rf = search.predict(X_test)\n",
    "f1_rf = f1_score(y_test, predictions_rf)\n",
    "probabilities_rf = search.predict_proba(X_test)\n",
    "roc_auc_rf = roc_auc_score(y_test, probabilities_rf[:, 1])\n",
    "print('F1 on TEST:', f1_rf)\n",
    "print('AUC-ROC on TEST:', roc_auc_rf)\n",
    "\n",
    "# ROC-кривая\n",
    "fpr, tpr, thresholds = roc_curve(y_test, probabilities_rf[:, 1])\n",
    "plt.figure(figsize=(7,7))\n",
    "plt.plot(fpr, tpr)\n",
    "plt.plot([0, 1], [0, 1], linestyle='--')\n",
    "plt.xlim([0.0, 1.0])\n",
    "plt.ylim([0.0, 1.0])\n",
    "plt.xlabel('False Positive Rate')\n",
    "plt.ylabel('True Positive Rate')\n",
    "plt.title('ROC-кривая')\n",
    "plt.show()"
   ]
  },
  {
   "cell_type": "markdown",
   "metadata": {},
   "source": [
    "Параметры лучшей модели:\n",
    "\n",
    "F1 on VALID: 0.7748063877060953\n",
    "AUC-ROC on VALID: 0.8499278061475538\n",
    "- n_estimators         70\n",
    "- max_features         10\n",
    "- max_depth             8\n",
    "- criterion       entropy\n",
    "\n",
    "F1 on TEST: 0.5889328063241106\n",
    "AUC-ROC on TEST: 0.8548216938047446"
   ]
  },
  {
   "cell_type": "markdown",
   "metadata": {},
   "source": [
    "Видим, что данная модель RandomForest, не так сильно переобучилась на валидационной выборке и показывает (на данный момент) лучший результат на тестовой выборке - F1 = 0.5889.\n",
    "\n",
    "Построим модель логистической регрессии."
   ]
  },
  {
   "cell_type": "code",
   "execution_count": 24,
   "metadata": {},
   "outputs": [
    {
     "name": "stdout",
     "output_type": "stream",
     "text": [
      "F1 on VALID: 0.6973564819433611\n",
      "AUC-ROC on VALID: 0.7621413886863376\n",
      "lr__max_iter       50\n",
      "lr__solver      lbfgs\n",
      "dtype: object\n",
      "\n",
      "F1 on TEST: 0.4876325088339222\n",
      "AUC-ROC on TEST: 0.76995176995177\n"
     ]
    },
    {
     "data": {
      "image/png": "[encoded data removed]",
      "text/plain": [
       "<Figure size 504x504 with 1 Axes>"
      ]
     },
     "metadata": {
      "needs_background": "light"
     },
     "output_type": "display_data"
    }
   ],
   "source": [
    "preprocessor = ColumnTransformer(\n",
    "    transformers=[('scaler', StandardScaler(), ['creditscore','age','tenure','balance','numofproducts','estimatedsalary'])],\n",
    "    remainder='passthrough'\n",
    ")\n",
    "\n",
    "pipeline_lr = Pipeline([\n",
    "    ('preprocessor', preprocessor), \n",
    "    ('lr', LogisticRegression(random_state=100))\n",
    "])\n",
    "\n",
    "params_lr = {\n",
    "    'lr__solver':['lbfgs','liblinear'],\n",
    "    'lr__max_iter':[50, 100, 500, 1000, 2000],\n",
    "}\n",
    "\n",
    "metrics = ['f1', 'roc_auc']\n",
    "\n",
    "grid = GridSearchCV(pipeline_lr, params_lr, cv=4, scoring=metrics, refit='f1')\n",
    "grid.fit(X_train_downsampled, y_train_downsampled)\n",
    "results = grid.cv_results_\n",
    "\n",
    "# Вывод метрик, полученных при кросс-валидации\n",
    "print('F1 on VALID:', grid.best_score_)\n",
    "print('AUC-ROC on VALID:', results['mean_test_roc_auc'].mean())\n",
    "print(pd.Series(grid.best_params_))\n",
    "print()\n",
    "\n",
    "# Расчет метрик на тестовой выборке\n",
    "predictions_lr = grid.predict(X_test)\n",
    "f1_lr = f1_score(y_test, predictions_lr)\n",
    "probabilities_lr = grid.predict_proba(X_test)\n",
    "roc_auc_lr = roc_auc_score(y_test, probabilities_lr[:, 1])\n",
    "print('F1 on TEST:', f1_lr)\n",
    "print('AUC-ROC on TEST:', roc_auc_lr)\n",
    "\n",
    "# ROC-кривая\n",
    "fpr, tpr, thresholds = roc_curve(y_test, probabilities_lr[:, 1])\n",
    "plt.figure(figsize=(7,7))\n",
    "plt.plot(fpr, tpr)\n",
    "plt.plot([0, 1], [0, 1], linestyle='--')\n",
    "plt.xlim([0.0, 1.0])\n",
    "plt.ylim([0.0, 1.0])\n",
    "plt.xlabel('False Positive Rate')\n",
    "plt.ylabel('True Positive Rate')\n",
    "plt.title('ROC-кривая')\n",
    "plt.show()"
   ]
  },
  {
   "cell_type": "markdown",
   "metadata": {},
   "source": [
    "Существенных изменений нет, модель все еще незначительно уступает модели, обученной на несбалансированных данных с гиперпараметром `class_weight='balanced'`"
   ]
  },
  {
   "cell_type": "markdown",
   "metadata": {},
   "source": [
    "### Библиотека Imblearn"
   ]
  },
  {
   "cell_type": "markdown",
   "metadata": {},
   "source": [
    "Попробуем использовать некоторые методы из библиотеки `imblearn`, кототорая предназначена для балансировки классов. \n",
    "\n",
    "Создадим функцию, которая будет работать с `Pipeline` из библиотеки `imblearn`, который позволяет использовать методы up- и down- сэмплинга совместно с кросс-валидацией. Также в pipeline включена стандартизация данных как для модели случайного леса, так и для логистической регрессии, поскольку многие методы `imblearn` работают лучше со стандартизированными данными.\n",
    "\n",
    "Функция **RFC** принимает на вход количество итераций `RandomizedSearchCV`, а также метод сэмплинга `imblearn`. Возвращает среднюю метрику F1 для всех вариантов кросс-валидации, а также лучшие гиперпараметры модели при заданном в аргументе методе сэмлинга."
   ]
  },
  {
   "cell_type": "code",
   "execution_count": 25,
   "metadata": {},
   "outputs": [],
   "source": [
    "def RFC(n_of_iterations, imb_method):\n",
    "    preprocessor = ColumnTransformer(\n",
    "        transformers=[('scaler', StandardScaler(), ['creditscore','age','tenure','balance','numofproducts','estimatedsalary'])],\n",
    "        remainder='passthrough'\n",
    "    )\n",
    "    \n",
    "    pipeline_rf = imbpipeline([\n",
    "        ('preprocessor', preprocessor),\n",
    "        ('imb', imb_method),\n",
    "        ('rf', RandomForestClassifier(random_state=100))\n",
    "    ])\n",
    "\n",
    "    params_rf = {\n",
    "        'rf__n_estimators':range(50, 150, 5),\n",
    "        'rf__criterion':['gini','entropy'],\n",
    "        'rf__max_depth':[8,9,10,11,12,13,14],\n",
    "        'rf__max_features':[5,6,7,8,9,10]\n",
    "    }\n",
    "\n",
    "    search = RandomizedSearchCV(pipeline_rf, params_rf, n_iter=n_of_iterations, cv=4, scoring='f1')\n",
    "    search.fit(X_train, y_train)\n",
    "    results = grid.cv_results_\n",
    "    return search.best_score_, results['mean_test_roc_auc'].mean(), search.best_params_"
   ]
  },
  {
   "cell_type": "markdown",
   "metadata": {},
   "source": [
    "Функция **LR** принимает в качестве аргумента только метод imblearn. Возвращает F1, AUC-ROC и лучшие гиперпараметры модели."
   ]
  },
  {
   "cell_type": "code",
   "execution_count": 26,
   "metadata": {},
   "outputs": [],
   "source": [
    "def LR(imb_method):\n",
    "    preprocessor = ColumnTransformer(\n",
    "        transformers=[('scaler', StandardScaler(), ['creditscore','age','tenure','balance','numofproducts','estimatedsalary'])],\n",
    "        remainder='passthrough'\n",
    "    )\n",
    "    \n",
    "    pipeline_lr = imbpipeline([\n",
    "        ('preprocessor', preprocessor),\n",
    "        ('imb', imb_method),\n",
    "        ('lr', LogisticRegression(random_state=100))\n",
    "    ])\n",
    "\n",
    "    params_lr = {\n",
    "        'lr__class_weight':[None,'balanced'],\n",
    "        'lr__solver':['lbfgs','liblinear'],\n",
    "        'lr__max_iter':[100, 500, 1000, 2000],\n",
    "    }\n",
    "\n",
    "    metrics = ['f1', 'roc_auc']\n",
    "\n",
    "    grid = GridSearchCV(pipeline_lr, params_lr, cv=4, scoring=metrics, refit='f1')\n",
    "    grid.fit(X_train, y_train)\n",
    "    results = grid.cv_results_\n",
    "    return grid.best_score_, results['mean_test_roc_auc'].mean(), grid.best_params_"
   ]
  },
  {
   "cell_type": "markdown",
   "metadata": {},
   "source": [
    "#### SMOTE\n",
    "\n",
    "SMOTE - Synthetic Minority Over-sampling Technique"
   ]
  },
  {
   "cell_type": "code",
   "execution_count": 27,
   "metadata": {},
   "outputs": [
    {
     "name": "stdout",
     "output_type": "stream",
     "text": [
      "Mean F1: 0.6277034380273017\n",
      "Mean AUC-ROC: 0.7621413886863376\n",
      "rf__n_estimators         80\n",
      "rf__max_features          5\n",
      "rf__max_depth             8\n",
      "rf__criterion       entropy\n",
      "dtype: object\n"
     ]
    }
   ],
   "source": [
    "smote = SMOTE(random_state=100)\n",
    "f1_smote_rfc, roc_auc_smote_rfc, best_params_smote_rfc = RFC(10, smote)\n",
    "print('Mean F1:', f1_smote_rfc)\n",
    "print('Mean AUC-ROC:', roc_auc_smote_rfc)\n",
    "print(pd.Series(best_params_smote_rfc))"
   ]
  },
  {
   "cell_type": "markdown",
   "metadata": {},
   "source": [
    "Параметры лучей модели:\n",
    "\n",
    "Mean F1: 0.6302005107446742\n",
    "Mean AUC-ROC: 0.7621413886863376\n",
    "- rf__n_estimators         80\n",
    "- rf__max_features          6\n",
    "- rf__max_depth            10\n",
    "- rf__criterion       entropy"
   ]
  },
  {
   "cell_type": "code",
   "execution_count": 28,
   "metadata": {},
   "outputs": [
    {
     "name": "stdout",
     "output_type": "stream",
     "text": [
      "Mean F1: 0.4963965110481822\n",
      "Mean AUC-ROC: 0.7677558821884072\n",
      "lr__class_weight     None\n",
      "lr__max_iter          100\n",
      "lr__solver          lbfgs\n",
      "dtype: object\n"
     ]
    }
   ],
   "source": [
    "smote = SMOTE(random_state=100)\n",
    "f1_smote_lr, roc_auc_smote_lr, best_params_smote_lr = LR(smote)\n",
    "print('Mean F1:', f1_smote_lr)\n",
    "print('Mean AUC-ROC:', roc_auc_smote_lr)\n",
    "print(pd.Series(best_params_smote_lr))"
   ]
  },
  {
   "cell_type": "markdown",
   "metadata": {},
   "source": [
    "Метрики качества модели практически не отличаются от метрик модели, обученной на несбалансированных данных с гиперпараметром `class_weight='balanced'`"
   ]
  },
  {
   "cell_type": "markdown",
   "metadata": {},
   "source": [
    "#### ENN\n",
    "\n",
    "Метод Edited Nearest Neighbours."
   ]
  },
  {
   "cell_type": "code",
   "execution_count": 29,
   "metadata": {},
   "outputs": [
    {
     "name": "stdout",
     "output_type": "stream",
     "text": [
      "Mean F1: 0.622269231016912\n",
      "Mean AUC-ROC: 0.7621413886863376\n",
      "rf__n_estimators     145\n",
      "rf__max_features       5\n",
      "rf__max_depth          8\n",
      "rf__criterion       gini\n",
      "dtype: object\n"
     ]
    }
   ],
   "source": [
    "enn = EditedNearestNeighbours()\n",
    "f1_enn_rfc, roc_auc_enn_rfc, best_params_enn_rfc = RFC(10, enn)\n",
    "print('Mean F1:', f1_enn_rfc)\n",
    "print('Mean AUC-ROC:', roc_auc_enn_rfc)\n",
    "print(pd.Series(best_params_enn_rfc))"
   ]
  },
  {
   "cell_type": "markdown",
   "metadata": {},
   "source": [
    "Параметры лучшей модели\n",
    "\n",
    "Mean F1: 0.6194325730881605\n",
    "Mean AUC-ROC: 0.7621413886863376\n",
    "- rf__n_estimators        145\n",
    "- rf__max_features          6\n",
    "- rf__max_depth             9\n",
    "- rf__criterion       entropy"
   ]
  },
  {
   "cell_type": "code",
   "execution_count": 30,
   "metadata": {},
   "outputs": [
    {
     "name": "stdout",
     "output_type": "stream",
     "text": [
      "Mean F1: 0.4896182053549326\n",
      "Mean AUC-ROC: 0.7654449075274588\n",
      "lr__class_weight     balanced\n",
      "lr__max_iter              100\n",
      "lr__solver          liblinear\n",
      "dtype: object\n"
     ]
    }
   ],
   "source": [
    "enn = EditedNearestNeighbours()\n",
    "f1_enn_lr, roc_auc_enn_lr, best_params_enn_lr = LR(enn)\n",
    "print('Mean F1:', f1_enn_lr)\n",
    "print('Mean AUC-ROC:', roc_auc_enn_lr)\n",
    "print(pd.Series(best_params_enn_lr))"
   ]
  },
  {
   "cell_type": "markdown",
   "metadata": {},
   "source": [
    "Качество модели кардинально не изменилось."
   ]
  },
  {
   "cell_type": "markdown",
   "metadata": {},
   "source": [
    "#### SMOTEENN\n",
    "\n",
    "Метод, при котором комбинируются up- сэмплинг с помощью SMOTE и down- сэмплинг с помощью Edited Nearest Neighbours."
   ]
  },
  {
   "cell_type": "code",
   "execution_count": 31,
   "metadata": {},
   "outputs": [
    {
     "name": "stdout",
     "output_type": "stream",
     "text": [
      "Mean F1: 0.5876215090943864\n",
      "Mean AUC-ROC: 0.7621413886863376\n",
      "rf__n_estimators         75\n",
      "rf__max_features          6\n",
      "rf__max_depth            14\n",
      "rf__criterion       entropy\n",
      "dtype: object\n"
     ]
    }
   ],
   "source": [
    "smoteenn = SMOTEENN(random_state=100)\n",
    "f1_smoteenn_rfc, roc_auc_smoteenn_rfc, best_params_smoteenn_rfc = RFC(10, smoteenn)\n",
    "print('Mean F1:', f1_smoteenn_rfc)\n",
    "print('Mean AUC-ROC:', roc_auc_smoteenn_rfc)\n",
    "print(pd.Series(best_params_smoteenn_rfc))"
   ]
  },
  {
   "cell_type": "markdown",
   "metadata": {},
   "source": [
    "Параметры лучшей модели:\n",
    "\n",
    "Mean F1: 0.5934708440021046\n",
    "Mean AUC-ROC: 0.7621413886863376\n",
    "- rf__n_estimators         85\n",
    "- rf__max_features          5\n",
    "- rf__max_depth            11\n",
    "- rf__criterion       entropy"
   ]
  },
  {
   "cell_type": "code",
   "execution_count": 32,
   "metadata": {},
   "outputs": [
    {
     "name": "stdout",
     "output_type": "stream",
     "text": [
      "Mean F1: 0.4929796954693838\n",
      "Mean AUC-ROC: 0.7674709454244828\n",
      "lr__class_weight    balanced\n",
      "lr__max_iter             100\n",
      "lr__solver             lbfgs\n",
      "dtype: object\n"
     ]
    }
   ],
   "source": [
    "smoteenn = SMOTEENN(random_state=100)\n",
    "f1_smoteenn_lr, roc_auc_smoteenn_lr, best_params_smoteenn_lr = LR(smoteenn)\n",
    "print('Mean F1:', f1_smoteenn_lr)\n",
    "print('Mean AUC-ROC:', roc_auc_smoteenn_lr)\n",
    "print(pd.Series(best_params_smoteenn_lr))"
   ]
  },
  {
   "cell_type": "markdown",
   "metadata": {},
   "source": [
    "#### SMOTETomek\n",
    "\n",
    "Метод, при котором комбинируются up- сэмплинг с помощью SMOTE и down- сэмплинг с помощью Tomek links."
   ]
  },
  {
   "cell_type": "code",
   "execution_count": 33,
   "metadata": {},
   "outputs": [
    {
     "name": "stdout",
     "output_type": "stream",
     "text": [
      "Mean F1: 0.628794647123691\n",
      "Mean AUC-ROC: 0.7621413886863376\n",
      "rf__n_estimators         55\n",
      "rf__max_features          5\n",
      "rf__max_depth            11\n",
      "rf__criterion       entropy\n",
      "dtype: object\n"
     ]
    }
   ],
   "source": [
    "smotetomek = SMOTETomek(random_state=100)\n",
    "f1_smotetomek_rfc, roc_auc_smotetomek_rfc, best_params_smotetomek_rfc = RFC(10, smotetomek)\n",
    "print('Mean F1:', f1_smotetomek_rfc)\n",
    "print('Mean AUC-ROC:', roc_auc_smotetomek_rfc)\n",
    "print(pd.Series(best_params_smotetomek_rfc))"
   ]
  },
  {
   "cell_type": "markdown",
   "metadata": {},
   "source": [
    "Параметры лучшей модели:\n",
    "\n",
    "Mean F1: 0.6249203077060508\n",
    "Mean AUC-ROC: 0.7621413886863376\n",
    "- rf__n_estimators        105\n",
    "- rf__max_features          7\n",
    "- rf__max_depth             8\n",
    "- rf__criterion       entropy"
   ]
  },
  {
   "cell_type": "code",
   "execution_count": 34,
   "metadata": {},
   "outputs": [
    {
     "name": "stdout",
     "output_type": "stream",
     "text": [
      "Mean F1: 0.49608482030986223\n",
      "Mean AUC-ROC: 0.7677450880295824\n",
      "lr__class_weight         None\n",
      "lr__max_iter              100\n",
      "lr__solver          liblinear\n",
      "dtype: object\n"
     ]
    }
   ],
   "source": [
    "smotetomek = SMOTETomek(random_state=100)\n",
    "f1_smotetomek_lr, roc_auc_smotetomek_lr, best_params_smotetomek_lr = LR(smotetomek)\n",
    "print('Mean F1:', f1_smotetomek_lr)\n",
    "print('Mean AUC-ROC:', roc_auc_smotetomek_lr)\n",
    "print(pd.Series(best_params_smotetomek_lr))"
   ]
  },
  {
   "cell_type": "markdown",
   "metadata": {},
   "source": [
    "### Результаты балансировки\n",
    "\n",
    "Видим, что ни одна из моделей логистической регрессии не приближается по метрике качества F1 к моделям случайного леса. \n",
    "\n",
    "Среди моделей слуйчайного леса, обученных на сэмплированных с помощью различных методов данных, лучшую метрику (F1-63.02%) на кросс-валидации показала модель случайного леса с использованием **SMOTE** и гиперпараметрами:\n",
    "\n",
    "- n_estimators         80\n",
    "- max_features          6\n",
    "- max_depth            10\n",
    "- criterion       entropy\n",
    "\n",
    "На втором месте модель с использованием **SMOTETomek** (F1-62.49%) и гиперпараметрами:\n",
    "\n",
    "- n_estimators        105\n",
    "- max_features          7\n",
    "- max_depth             8\n",
    "- criterion       entropy\n",
    "\n",
    "## Тестирование модели\n",
    "\n",
    "Обучим лучшую модель, полученную на предыдущем этапе, на всей тренировочной выборке целиком и проверим на тестовой."
   ]
  },
  {
   "cell_type": "markdown",
   "metadata": {},
   "source": [
    "Первый этап - стандартизация выборок."
   ]
  },
  {
   "cell_type": "code",
   "execution_count": 35,
   "metadata": {
    "scrolled": true
   },
   "outputs": [],
   "source": [
    "X_train_scaled = X_train.copy()\n",
    "X_test_scaled = X_test.copy()\n",
    "col_names = ['creditscore','age','tenure','balance','numofproducts','estimatedsalary']\n",
    "scaler = StandardScaler()\n",
    "scaler = scaler.fit(X_train[col_names])\n",
    "X_test_scaled[col_names] = scaler.transform(X_test[col_names])\n",
    "X_train_scaled[col_names] = scaler.transform(X_train[col_names])"
   ]
  },
  {
   "cell_type": "markdown",
   "metadata": {},
   "source": [
    "Создадим сэмплированный набора данных для обучения с помощью SMOTE и обучим модель."
   ]
  },
  {
   "cell_type": "code",
   "execution_count": 36,
   "metadata": {},
   "outputs": [
    {
     "data": {
      "text/plain": [
       "((12740, 11), 12740, 0.5)"
      ]
     },
     "execution_count": 36,
     "metadata": {},
     "output_type": "execute_result"
    }
   ],
   "source": [
    "smote = SMOTE(random_state=100)\n",
    "X_train_smote, y_train_smote = smote.fit_resample(X_train_scaled, y_train)\n",
    "X_train_smote.shape, len(y_train_smote), y_train_smote.mean()"
   ]
  },
  {
   "cell_type": "code",
   "execution_count": 37,
   "metadata": {
    "scrolled": true
   },
   "outputs": [
    {
     "name": "stdout",
     "output_type": "stream",
     "text": [
      "F1 on TEST: 0.6034285714285714\n",
      "AUC-ROC on TEST: 0.8536101586949044\n"
     ]
    }
   ],
   "source": [
    "model_rf = RandomForestClassifier(random_state=100,\n",
    "                                  n_estimators=80,\n",
    "                                  max_features=6,\n",
    "                                  max_depth=10,\n",
    "                                  criterion='entropy')\n",
    "model_rf.fit(X_train_smote, y_train_smote)\n",
    "predictions_rf = model_rf.predict(X_test_scaled)\n",
    "f1_rf = f1_score(y_test, predictions_rf)\n",
    "probabilities_rf = model_rf.predict_proba(X_test_scaled)\n",
    "roc_auc_rf = roc_auc_score(y_test, probabilities_rf[:, 1])\n",
    "print('F1 on TEST:', f1_rf)\n",
    "print('AUC-ROC on TEST:', roc_auc_rf)"
   ]
  },
  {
   "cell_type": "markdown",
   "metadata": {},
   "source": [
    "Среднее гармоническое F1 финальной модели случайного леса составляет 0.6034."
   ]
  },
  {
   "cell_type": "markdown",
   "metadata": {},
   "source": [
    "## Вывод"
   ]
  },
  {
   "cell_type": "markdown",
   "metadata": {},
   "source": [
    "На входе мы получили данные о поведении клиентов и расторжении договоров с «Бета-Банком». Данные были подготовлены к обучению:\n",
    "\n",
    "- Устранены пропуски и некорректный тип данных в столбце Tenure.\n",
    "- Удалены столбцы RowNumber, CustomerId, Surname.\n",
    "- Исследован баланс классов.\n",
    "- Категориальные признаки Gender, Geography закодированы с помощью One Hot Encoding.\n",
    "- Датасет разделен на тренировочную и тестовые выборки.\n",
    "\n",
    "Для того, чтобы предсказать на основе изученных данных, расторгет ли клиент договор, была решена задача бинарной классификации с помощью моделей RandomForestClassifier и LogisticRegression, а также различных приемов борьбы с дисбалансом.\n",
    "\n",
    "Было показано, что модель LogisticRegression во всех случаях показывает результат хуже, чем RandomForestClassifier. А среди методов борьбы с дисбалансом лучшие результаты показали SMOTE и SMOTETomek.\n",
    "\n",
    "В результате работы окончательной была выбрана модель RandomForestClassifier, обученная на стандартизированных и сэмплированных методом SMOTE данных с гиперпараметрами:\n",
    "\n",
    "- n_estimators=80\n",
    "- max_features=6\n",
    "- max_depth=10\n",
    "- criterion='entropy'"
   ]
  }
 ],
 "metadata": {
  "ExecuteTimeLog": [
   {
    "duration": 48,
    "start_time": "2022-11-12T14:16:34.886Z"
   },
   {
    "duration": 356,
    "start_time": "2022-11-12T14:16:37.128Z"
   },
   {
    "duration": 173,
    "start_time": "2022-11-12T14:16:37.590Z"
   },
   {
    "duration": 19,
    "start_time": "2022-11-12T14:16:43.145Z"
   },
   {
    "duration": 50,
    "start_time": "2022-11-26T16:24:19.262Z"
   },
   {
    "duration": 5,
    "start_time": "2022-11-26T16:24:23.937Z"
   },
   {
    "duration": 427,
    "start_time": "2022-11-26T16:24:30.095Z"
   },
   {
    "duration": 79,
    "start_time": "2022-11-26T16:24:30.524Z"
   },
   {
    "duration": 21,
    "start_time": "2022-11-26T16:24:30.604Z"
   },
   {
    "duration": 22,
    "start_time": "2022-11-26T16:24:30.626Z"
   },
   {
    "duration": 29,
    "start_time": "2022-11-26T16:25:11.297Z"
   },
   {
    "duration": 20,
    "start_time": "2022-11-26T16:58:44.831Z"
   },
   {
    "duration": 18,
    "start_time": "2022-11-26T16:58:48.722Z"
   },
   {
    "duration": 16,
    "start_time": "2022-11-26T16:58:57.300Z"
   },
   {
    "duration": 88,
    "start_time": "2022-11-26T17:46:06.489Z"
   },
   {
    "duration": 25,
    "start_time": "2022-11-26T17:46:10.621Z"
   },
   {
    "duration": 8,
    "start_time": "2022-11-26T17:47:26.435Z"
   },
   {
    "duration": 8,
    "start_time": "2022-11-26T17:47:32.382Z"
   },
   {
    "duration": 6,
    "start_time": "2022-11-26T17:47:36.644Z"
   },
   {
    "duration": 15,
    "start_time": "2022-11-26T17:47:46.442Z"
   },
   {
    "duration": 4,
    "start_time": "2022-11-26T17:47:54.883Z"
   },
   {
    "duration": 4,
    "start_time": "2022-11-26T17:48:25.945Z"
   },
   {
    "duration": 9,
    "start_time": "2022-11-26T17:55:35.703Z"
   },
   {
    "duration": 9,
    "start_time": "2022-11-26T17:55:45.972Z"
   },
   {
    "duration": 4,
    "start_time": "2022-11-26T17:56:01.128Z"
   },
   {
    "duration": 5,
    "start_time": "2022-11-26T17:56:19.753Z"
   },
   {
    "duration": 9,
    "start_time": "2022-11-26T17:56:37.971Z"
   },
   {
    "duration": 9,
    "start_time": "2022-11-26T17:59:52.607Z"
   },
   {
    "duration": 10,
    "start_time": "2022-11-26T18:00:42.065Z"
   },
   {
    "duration": 12,
    "start_time": "2022-11-26T18:01:00.623Z"
   },
   {
    "duration": 11,
    "start_time": "2022-11-26T18:01:11.541Z"
   },
   {
    "duration": 12,
    "start_time": "2022-11-26T18:01:35.156Z"
   },
   {
    "duration": 11,
    "start_time": "2022-11-26T18:01:45.070Z"
   },
   {
    "duration": 12,
    "start_time": "2022-11-26T18:07:47.354Z"
   },
   {
    "duration": 9,
    "start_time": "2022-11-26T18:08:07.463Z"
   },
   {
    "duration": 22,
    "start_time": "2022-11-26T18:10:27.764Z"
   },
   {
    "duration": 43,
    "start_time": "2022-11-26T18:17:50.392Z"
   },
   {
    "duration": 42,
    "start_time": "2022-11-26T18:18:08.143Z"
   },
   {
    "duration": 8,
    "start_time": "2022-11-26T18:18:20.696Z"
   },
   {
    "duration": 11,
    "start_time": "2022-11-26T18:18:37.627Z"
   },
   {
    "duration": 10,
    "start_time": "2022-11-26T18:18:48.087Z"
   },
   {
    "duration": 9,
    "start_time": "2022-11-26T18:19:05.559Z"
   },
   {
    "duration": 5,
    "start_time": "2022-11-26T18:23:21.171Z"
   },
   {
    "duration": 7,
    "start_time": "2022-11-26T18:23:39.524Z"
   },
   {
    "duration": 36,
    "start_time": "2022-11-26T18:23:43.859Z"
   },
   {
    "duration": 1191,
    "start_time": "2022-11-26T18:31:22.221Z"
   },
   {
    "duration": 61,
    "start_time": "2022-11-26T18:31:45.896Z"
   },
   {
    "duration": 1002,
    "start_time": "2022-11-26T18:31:58.608Z"
   },
   {
    "duration": 40,
    "start_time": "2022-11-26T18:32:07.729Z"
   },
   {
    "duration": 978,
    "start_time": "2022-11-26T18:32:12.502Z"
   },
   {
    "duration": 1307,
    "start_time": "2022-11-26T18:32:36.128Z"
   },
   {
    "duration": 11,
    "start_time": "2022-11-26T18:51:47.358Z"
   },
   {
    "duration": 8,
    "start_time": "2022-11-26T18:53:07.433Z"
   },
   {
    "duration": 7,
    "start_time": "2022-11-26T18:53:45.213Z"
   },
   {
    "duration": 5,
    "start_time": "2022-11-26T18:53:56.166Z"
   },
   {
    "duration": 7,
    "start_time": "2022-11-26T18:54:01.714Z"
   },
   {
    "duration": 14,
    "start_time": "2022-11-26T18:54:23.772Z"
   },
   {
    "duration": 7,
    "start_time": "2022-11-26T18:55:49.716Z"
   },
   {
    "duration": 8,
    "start_time": "2022-11-26T18:55:59.733Z"
   },
   {
    "duration": 7,
    "start_time": "2022-11-26T18:56:03.091Z"
   },
   {
    "duration": 6,
    "start_time": "2022-11-26T18:56:15.772Z"
   },
   {
    "duration": 7,
    "start_time": "2022-11-26T18:56:19.749Z"
   },
   {
    "duration": 19,
    "start_time": "2022-11-26T18:58:15.500Z"
   },
   {
    "duration": 13,
    "start_time": "2022-11-26T18:58:19.191Z"
   },
   {
    "duration": 25,
    "start_time": "2022-11-26T19:32:07.289Z"
   },
   {
    "duration": 714,
    "start_time": "2022-11-26T19:52:29.721Z"
   },
   {
    "duration": 11,
    "start_time": "2022-11-26T19:54:39.519Z"
   },
   {
    "duration": 6,
    "start_time": "2022-11-26T19:55:20.928Z"
   },
   {
    "duration": 19,
    "start_time": "2022-11-26T19:55:22.081Z"
   },
   {
    "duration": 3,
    "start_time": "2022-11-26T20:17:03.365Z"
   },
   {
    "duration": 1072,
    "start_time": "2022-11-27T09:55:19.917Z"
   },
   {
    "duration": 196,
    "start_time": "2022-11-27T09:55:20.991Z"
   },
   {
    "duration": 28,
    "start_time": "2022-11-27T09:55:21.189Z"
   },
   {
    "duration": 16,
    "start_time": "2022-11-27T09:55:21.219Z"
   },
   {
    "duration": 11,
    "start_time": "2022-11-27T09:55:21.236Z"
   },
   {
    "duration": 3,
    "start_time": "2022-11-27T09:55:21.249Z"
   },
   {
    "duration": 13,
    "start_time": "2022-11-27T09:55:21.254Z"
   },
   {
    "duration": 4,
    "start_time": "2022-11-27T09:55:21.269Z"
   },
   {
    "duration": 71,
    "start_time": "2022-11-27T09:55:21.275Z"
   },
   {
    "duration": 1651,
    "start_time": "2022-11-27T09:55:21.349Z"
   },
   {
    "duration": 6,
    "start_time": "2022-11-27T09:55:23.004Z"
   },
   {
    "duration": 27,
    "start_time": "2022-11-27T09:55:23.012Z"
   },
   {
    "duration": 8,
    "start_time": "2022-11-27T09:55:23.040Z"
   },
   {
    "duration": 43,
    "start_time": "2022-11-27T09:55:23.049Z"
   },
   {
    "duration": 9,
    "start_time": "2022-11-27T09:55:23.094Z"
   },
   {
    "duration": 28,
    "start_time": "2022-11-27T09:55:23.105Z"
   },
   {
    "duration": 21,
    "start_time": "2022-11-27T09:55:23.135Z"
   },
   {
    "duration": 4,
    "start_time": "2022-11-27T09:55:23.158Z"
   },
   {
    "duration": 45,
    "start_time": "2022-11-27T13:06:41.962Z"
   },
   {
    "duration": 108,
    "start_time": "2022-11-27T13:10:39.592Z"
   },
   {
    "duration": 3,
    "start_time": "2022-11-27T13:11:10.066Z"
   },
   {
    "duration": 33,
    "start_time": "2022-11-27T13:11:13.512Z"
   },
   {
    "duration": 26,
    "start_time": "2022-11-27T13:11:39.081Z"
   },
   {
    "duration": 25,
    "start_time": "2022-11-27T13:12:22.487Z"
   },
   {
    "duration": 24,
    "start_time": "2022-11-27T13:14:18.057Z"
   },
   {
    "duration": 4,
    "start_time": "2022-11-27T13:16:03.230Z"
   },
   {
    "duration": 5,
    "start_time": "2022-11-27T13:16:14.149Z"
   },
   {
    "duration": 10,
    "start_time": "2022-11-27T13:19:34.977Z"
   },
   {
    "duration": 25,
    "start_time": "2022-11-27T13:22:40.674Z"
   },
   {
    "duration": 27,
    "start_time": "2022-11-27T13:46:06.630Z"
   },
   {
    "duration": 25,
    "start_time": "2022-11-27T13:48:24.752Z"
   },
   {
    "duration": 4,
    "start_time": "2022-11-27T13:48:41.633Z"
   },
   {
    "duration": 1009489,
    "start_time": "2022-11-27T13:51:29.344Z"
   },
   {
    "duration": 1050,
    "start_time": "2022-11-27T14:09:31.840Z"
   },
   {
    "duration": 41,
    "start_time": "2022-11-27T14:09:32.892Z"
   },
   {
    "duration": 20,
    "start_time": "2022-11-27T14:09:32.934Z"
   },
   {
    "duration": 11,
    "start_time": "2022-11-27T14:09:32.956Z"
   },
   {
    "duration": 10,
    "start_time": "2022-11-27T14:09:32.969Z"
   },
   {
    "duration": 3,
    "start_time": "2022-11-27T14:09:32.980Z"
   },
   {
    "duration": 20,
    "start_time": "2022-11-27T14:09:32.985Z"
   },
   {
    "duration": 4,
    "start_time": "2022-11-27T14:09:33.007Z"
   },
   {
    "duration": 38,
    "start_time": "2022-11-27T14:09:33.012Z"
   },
   {
    "duration": 1465,
    "start_time": "2022-11-27T14:09:33.052Z"
   },
   {
    "duration": 4,
    "start_time": "2022-11-27T14:09:34.519Z"
   },
   {
    "duration": 17,
    "start_time": "2022-11-27T14:09:34.525Z"
   },
   {
    "duration": 8,
    "start_time": "2022-11-27T14:09:34.543Z"
   },
   {
    "duration": 22,
    "start_time": "2022-11-27T14:09:34.552Z"
   },
   {
    "duration": 36,
    "start_time": "2022-11-27T14:09:34.575Z"
   },
   {
    "duration": 5,
    "start_time": "2022-11-27T14:09:34.613Z"
   },
   {
    "duration": 20,
    "start_time": "2022-11-27T14:09:34.619Z"
   },
   {
    "duration": 32245,
    "start_time": "2022-11-27T14:09:34.641Z"
   },
   {
    "duration": 4984,
    "start_time": "2022-11-27T14:10:14.398Z"
   },
   {
    "duration": 5771,
    "start_time": "2022-11-27T14:11:11.278Z"
   },
   {
    "duration": 4049,
    "start_time": "2022-11-27T14:13:06.166Z"
   },
   {
    "duration": 21321,
    "start_time": "2022-11-27T14:13:59.661Z"
   },
   {
    "duration": 11,
    "start_time": "2022-11-27T14:15:04.798Z"
   },
   {
    "duration": 3654,
    "start_time": "2022-11-27T14:15:09.591Z"
   },
   {
    "duration": 28763,
    "start_time": "2022-11-27T14:15:48.042Z"
   },
   {
    "duration": 67120,
    "start_time": "2022-11-27T14:16:44.484Z"
   },
   {
    "duration": 76257,
    "start_time": "2022-11-27T14:18:03.923Z"
   },
   {
    "duration": 75424,
    "start_time": "2022-11-27T14:21:55.636Z"
   },
   {
    "duration": 148864,
    "start_time": "2022-11-27T14:24:04.492Z"
   },
   {
    "duration": 541529,
    "start_time": "2022-11-27T14:26:54.231Z"
   },
   {
    "duration": 6877,
    "start_time": "2022-11-27T14:39:35.476Z"
   },
   {
    "duration": 15233,
    "start_time": "2022-11-27T14:43:44.243Z"
   },
   {
    "duration": 60964,
    "start_time": "2022-11-27T14:44:15.694Z"
   },
   {
    "duration": 5504,
    "start_time": "2022-11-27T14:45:35.279Z"
   },
   {
    "duration": 50424,
    "start_time": "2022-11-27T14:45:45.016Z"
   },
   {
    "duration": 1134,
    "start_time": "2022-11-27T14:47:00.292Z"
   },
   {
    "duration": 43,
    "start_time": "2022-11-27T14:47:01.428Z"
   },
   {
    "duration": 22,
    "start_time": "2022-11-27T14:47:01.473Z"
   },
   {
    "duration": 49,
    "start_time": "2022-11-27T14:47:01.498Z"
   },
   {
    "duration": 57,
    "start_time": "2022-11-27T14:47:01.549Z"
   },
   {
    "duration": 49,
    "start_time": "2022-11-27T14:47:01.608Z"
   },
   {
    "duration": 25,
    "start_time": "2022-11-27T14:47:01.659Z"
   },
   {
    "duration": 5,
    "start_time": "2022-11-27T14:47:01.685Z"
   },
   {
    "duration": 48,
    "start_time": "2022-11-27T14:47:01.692Z"
   },
   {
    "duration": 1544,
    "start_time": "2022-11-27T14:47:01.742Z"
   },
   {
    "duration": 118,
    "start_time": "2022-11-27T14:47:03.288Z"
   },
   {
    "duration": 0,
    "start_time": "2022-11-27T14:47:03.407Z"
   },
   {
    "duration": 0,
    "start_time": "2022-11-27T14:47:03.408Z"
   },
   {
    "duration": 0,
    "start_time": "2022-11-27T14:47:03.409Z"
   },
   {
    "duration": 0,
    "start_time": "2022-11-27T14:47:03.410Z"
   },
   {
    "duration": 0,
    "start_time": "2022-11-27T14:47:03.411Z"
   },
   {
    "duration": 0,
    "start_time": "2022-11-27T14:47:03.412Z"
   },
   {
    "duration": 0,
    "start_time": "2022-11-27T14:47:03.413Z"
   },
   {
    "duration": 9,
    "start_time": "2022-11-27T14:47:49.744Z"
   },
   {
    "duration": 4,
    "start_time": "2022-11-27T14:47:53.067Z"
   },
   {
    "duration": 1077,
    "start_time": "2022-11-27T14:48:06.136Z"
   },
   {
    "duration": 40,
    "start_time": "2022-11-27T14:48:07.214Z"
   },
   {
    "duration": 18,
    "start_time": "2022-11-27T14:48:07.256Z"
   },
   {
    "duration": 14,
    "start_time": "2022-11-27T14:48:07.276Z"
   },
   {
    "duration": 14,
    "start_time": "2022-11-27T14:48:07.292Z"
   },
   {
    "duration": 4,
    "start_time": "2022-11-27T14:48:07.308Z"
   },
   {
    "duration": 16,
    "start_time": "2022-11-27T14:48:07.314Z"
   },
   {
    "duration": 13,
    "start_time": "2022-11-27T14:48:07.332Z"
   },
   {
    "duration": 57,
    "start_time": "2022-11-27T14:48:07.347Z"
   },
   {
    "duration": 1519,
    "start_time": "2022-11-27T14:48:07.408Z"
   },
   {
    "duration": 3,
    "start_time": "2022-11-27T14:48:08.929Z"
   },
   {
    "duration": 19,
    "start_time": "2022-11-27T14:48:08.934Z"
   },
   {
    "duration": 6,
    "start_time": "2022-11-27T14:48:08.955Z"
   },
   {
    "duration": 27,
    "start_time": "2022-11-27T14:48:08.963Z"
   },
   {
    "duration": 10,
    "start_time": "2022-11-27T14:48:09.005Z"
   },
   {
    "duration": 15,
    "start_time": "2022-11-27T14:48:09.017Z"
   },
   {
    "duration": 23,
    "start_time": "2022-11-27T14:48:09.034Z"
   },
   {
    "duration": 159,
    "start_time": "2022-11-27T14:48:09.058Z"
   },
   {
    "duration": 1098,
    "start_time": "2022-11-27T14:49:36.812Z"
   },
   {
    "duration": 40,
    "start_time": "2022-11-27T14:49:37.912Z"
   },
   {
    "duration": 19,
    "start_time": "2022-11-27T14:49:37.954Z"
   },
   {
    "duration": 12,
    "start_time": "2022-11-27T14:49:37.975Z"
   },
   {
    "duration": 10,
    "start_time": "2022-11-27T14:49:37.989Z"
   },
   {
    "duration": 5,
    "start_time": "2022-11-27T14:49:38.001Z"
   },
   {
    "duration": 13,
    "start_time": "2022-11-27T14:49:38.007Z"
   },
   {
    "duration": 10,
    "start_time": "2022-11-27T14:49:38.021Z"
   },
   {
    "duration": 21,
    "start_time": "2022-11-27T14:49:38.032Z"
   },
   {
    "duration": 43,
    "start_time": "2022-11-27T14:49:38.055Z"
   },
   {
    "duration": 1435,
    "start_time": "2022-11-27T14:49:38.099Z"
   },
   {
    "duration": 3,
    "start_time": "2022-11-27T14:49:39.536Z"
   },
   {
    "duration": 18,
    "start_time": "2022-11-27T14:49:39.541Z"
   },
   {
    "duration": 9,
    "start_time": "2022-11-27T14:49:39.561Z"
   },
   {
    "duration": 37,
    "start_time": "2022-11-27T14:49:39.571Z"
   },
   {
    "duration": 11,
    "start_time": "2022-11-27T14:49:39.609Z"
   },
   {
    "duration": 10,
    "start_time": "2022-11-27T14:49:39.621Z"
   },
   {
    "duration": 23,
    "start_time": "2022-11-27T14:49:39.632Z"
   },
   {
    "duration": 4378,
    "start_time": "2022-11-27T14:49:39.657Z"
   },
   {
    "duration": 42799,
    "start_time": "2022-11-27T14:49:49.999Z"
   },
   {
    "duration": 222812,
    "start_time": "2022-11-27T14:50:47.168Z"
   },
   {
    "duration": 273080,
    "start_time": "2022-11-27T14:55:15.768Z"
   },
   {
    "duration": 1074,
    "start_time": "2022-11-27T15:00:01.756Z"
   },
   {
    "duration": 50,
    "start_time": "2022-11-27T15:00:02.832Z"
   },
   {
    "duration": 31,
    "start_time": "2022-11-27T15:00:02.883Z"
   },
   {
    "duration": 43,
    "start_time": "2022-11-27T15:00:02.916Z"
   },
   {
    "duration": 53,
    "start_time": "2022-11-27T15:00:02.961Z"
   },
   {
    "duration": 15,
    "start_time": "2022-11-27T15:00:03.016Z"
   },
   {
    "duration": 32,
    "start_time": "2022-11-27T15:00:03.033Z"
   },
   {
    "duration": 20,
    "start_time": "2022-11-27T15:00:03.067Z"
   },
   {
    "duration": 22,
    "start_time": "2022-11-27T15:00:03.089Z"
   },
   {
    "duration": 26,
    "start_time": "2022-11-27T15:00:03.113Z"
   },
   {
    "duration": 66,
    "start_time": "2022-11-27T15:00:03.141Z"
   },
   {
    "duration": 1462,
    "start_time": "2022-11-27T15:00:03.209Z"
   },
   {
    "duration": 4,
    "start_time": "2022-11-27T15:00:04.672Z"
   },
   {
    "duration": 123,
    "start_time": "2022-11-27T15:00:04.678Z"
   },
   {
    "duration": 13,
    "start_time": "2022-11-27T15:00:04.803Z"
   },
   {
    "duration": 38,
    "start_time": "2022-11-27T15:00:04.817Z"
   },
   {
    "duration": 11,
    "start_time": "2022-11-27T15:00:04.856Z"
   },
   {
    "duration": 4,
    "start_time": "2022-11-27T15:00:04.869Z"
   },
   {
    "duration": 23,
    "start_time": "2022-11-27T15:00:04.875Z"
   },
   {
    "duration": 56480,
    "start_time": "2022-11-27T15:00:04.905Z"
   },
   {
    "duration": 106,
    "start_time": "2022-11-27T15:04:07.145Z"
   },
   {
    "duration": 10334,
    "start_time": "2022-11-27T15:04:44.999Z"
   },
   {
    "duration": 15007,
    "start_time": "2022-11-27T15:05:49.013Z"
   },
   {
    "duration": 1052,
    "start_time": "2022-11-27T15:07:18.141Z"
   },
   {
    "duration": 41,
    "start_time": "2022-11-27T15:07:19.195Z"
   },
   {
    "duration": 19,
    "start_time": "2022-11-27T15:07:19.238Z"
   },
   {
    "duration": 11,
    "start_time": "2022-11-27T15:07:19.259Z"
   },
   {
    "duration": 12,
    "start_time": "2022-11-27T15:07:19.271Z"
   },
   {
    "duration": 9,
    "start_time": "2022-11-27T15:07:19.284Z"
   },
   {
    "duration": 12,
    "start_time": "2022-11-27T15:07:19.295Z"
   },
   {
    "duration": 4,
    "start_time": "2022-11-27T15:07:19.308Z"
   },
   {
    "duration": 38,
    "start_time": "2022-11-27T15:07:19.313Z"
   },
   {
    "duration": 1367,
    "start_time": "2022-11-27T15:07:19.353Z"
   },
   {
    "duration": 4,
    "start_time": "2022-11-27T15:07:20.721Z"
   },
   {
    "duration": 21,
    "start_time": "2022-11-27T15:07:20.726Z"
   },
   {
    "duration": 7,
    "start_time": "2022-11-27T15:07:20.748Z"
   },
   {
    "duration": 29,
    "start_time": "2022-11-27T15:07:20.756Z"
   },
   {
    "duration": 22,
    "start_time": "2022-11-27T15:07:20.786Z"
   },
   {
    "duration": 5,
    "start_time": "2022-11-27T15:07:20.810Z"
   },
   {
    "duration": 34,
    "start_time": "2022-11-27T15:07:20.816Z"
   },
   {
    "duration": 7915,
    "start_time": "2022-11-27T15:07:20.852Z"
   },
   {
    "duration": 6810,
    "start_time": "2022-11-27T15:13:01.547Z"
   },
   {
    "duration": 17043,
    "start_time": "2022-11-27T15:13:16.225Z"
   },
   {
    "duration": 58846,
    "start_time": "2022-11-27T15:16:55.431Z"
   },
   {
    "duration": 21759,
    "start_time": "2022-11-27T15:20:25.293Z"
   },
   {
    "duration": 38756,
    "start_time": "2022-11-27T15:27:53.474Z"
   },
   {
    "duration": 19295,
    "start_time": "2022-11-27T15:31:04.414Z"
   },
   {
    "duration": 30010,
    "start_time": "2022-11-27T15:32:45.666Z"
   },
   {
    "duration": 27540,
    "start_time": "2022-11-27T15:35:27.964Z"
   },
   {
    "duration": 10779,
    "start_time": "2022-11-27T16:13:14.327Z"
   },
   {
    "duration": 7575,
    "start_time": "2022-11-27T16:17:13.431Z"
   },
   {
    "duration": 7972,
    "start_time": "2022-11-27T16:17:23.035Z"
   },
   {
    "duration": 8259,
    "start_time": "2022-11-27T16:17:54.152Z"
   },
   {
    "duration": 7,
    "start_time": "2022-11-27T16:18:21.225Z"
   },
   {
    "duration": 8,
    "start_time": "2022-11-27T16:18:29.062Z"
   },
   {
    "duration": 5,
    "start_time": "2022-11-27T16:20:45.960Z"
   },
   {
    "duration": 4,
    "start_time": "2022-11-27T16:21:12.716Z"
   },
   {
    "duration": 3,
    "start_time": "2022-11-27T16:21:18.334Z"
   },
   {
    "duration": 105,
    "start_time": "2022-11-27T16:36:58.561Z"
   },
   {
    "duration": 13041,
    "start_time": "2022-11-27T16:37:04.766Z"
   },
   {
    "duration": 91,
    "start_time": "2022-11-27T16:37:41.542Z"
   },
   {
    "duration": 5,
    "start_time": "2022-11-27T16:38:00.533Z"
   },
   {
    "duration": 8037,
    "start_time": "2022-11-27T16:38:08.869Z"
   },
   {
    "duration": 4,
    "start_time": "2022-11-27T16:38:27.636Z"
   },
   {
    "duration": 4763,
    "start_time": "2022-11-27T16:38:37.249Z"
   },
   {
    "duration": 8042,
    "start_time": "2022-11-27T16:39:06.669Z"
   },
   {
    "duration": 4,
    "start_time": "2022-11-27T16:39:22.782Z"
   },
   {
    "duration": 7783,
    "start_time": "2022-11-27T16:40:15.630Z"
   },
   {
    "duration": 3,
    "start_time": "2022-11-27T16:40:29.854Z"
   },
   {
    "duration": 8065,
    "start_time": "2022-11-27T16:41:20.844Z"
   },
   {
    "duration": 4,
    "start_time": "2022-11-27T16:42:04.582Z"
   },
   {
    "duration": 4,
    "start_time": "2022-11-27T16:42:08.774Z"
   },
   {
    "duration": 68,
    "start_time": "2022-11-27T16:42:12.959Z"
   },
   {
    "duration": 16161,
    "start_time": "2022-11-27T16:42:19.445Z"
   },
   {
    "duration": 9,
    "start_time": "2022-11-27T16:42:42.539Z"
   },
   {
    "duration": 4,
    "start_time": "2022-11-27T16:45:50.902Z"
   },
   {
    "duration": 4,
    "start_time": "2022-11-27T16:45:52.291Z"
   },
   {
    "duration": 16120,
    "start_time": "2022-11-27T16:48:59.185Z"
   },
   {
    "duration": 15859,
    "start_time": "2022-11-27T16:50:23.355Z"
   },
   {
    "duration": 15779,
    "start_time": "2022-11-27T16:50:53.330Z"
   },
   {
    "duration": 15371,
    "start_time": "2022-11-27T16:51:18.535Z"
   },
   {
    "duration": 25,
    "start_time": "2022-11-27T17:12:21.961Z"
   },
   {
    "duration": 9,
    "start_time": "2022-11-27T17:12:37.731Z"
   },
   {
    "duration": 9,
    "start_time": "2022-11-27T17:13:36.427Z"
   },
   {
    "duration": 11,
    "start_time": "2022-11-27T17:13:38.674Z"
   },
   {
    "duration": 81,
    "start_time": "2022-11-27T17:15:39.636Z"
   },
   {
    "duration": 92,
    "start_time": "2022-11-27T17:16:31.504Z"
   },
   {
    "duration": 71,
    "start_time": "2022-11-27T17:19:32.187Z"
   },
   {
    "duration": 3,
    "start_time": "2022-11-27T17:20:35.270Z"
   },
   {
    "duration": 6352,
    "start_time": "2022-11-30T03:56:14.240Z"
   },
   {
    "duration": 2095,
    "start_time": "2022-11-30T03:56:33.316Z"
   },
   {
    "duration": 1379,
    "start_time": "2022-11-30T03:56:35.413Z"
   },
   {
    "duration": 148,
    "start_time": "2022-11-30T03:56:36.794Z"
   },
   {
    "duration": 48,
    "start_time": "2022-11-30T03:56:36.944Z"
   },
   {
    "duration": 13,
    "start_time": "2022-11-30T03:56:36.994Z"
   },
   {
    "duration": 12,
    "start_time": "2022-11-30T03:56:37.009Z"
   },
   {
    "duration": 57,
    "start_time": "2022-11-30T03:56:37.022Z"
   },
   {
    "duration": 9,
    "start_time": "2022-11-30T03:56:37.080Z"
   },
   {
    "duration": 6,
    "start_time": "2022-11-30T03:56:37.091Z"
   },
   {
    "duration": 89,
    "start_time": "2022-11-30T03:56:37.098Z"
   },
   {
    "duration": 1593,
    "start_time": "2022-11-30T03:56:37.188Z"
   },
   {
    "duration": 7,
    "start_time": "2022-11-30T03:56:38.783Z"
   },
   {
    "duration": 23,
    "start_time": "2022-11-30T03:56:38.791Z"
   },
   {
    "duration": 9,
    "start_time": "2022-11-30T03:56:38.817Z"
   },
   {
    "duration": 18,
    "start_time": "2022-11-30T03:56:38.827Z"
   },
   {
    "duration": 15931,
    "start_time": "2022-11-30T03:56:38.847Z"
   },
   {
    "duration": 12605,
    "start_time": "2022-11-30T03:56:54.780Z"
   },
   {
    "duration": 101,
    "start_time": "2022-11-30T03:57:07.387Z"
   },
   {
    "duration": 10,
    "start_time": "2022-11-30T03:57:07.579Z"
   },
   {
    "duration": 17,
    "start_time": "2022-11-30T03:57:07.591Z"
   },
   {
    "duration": 6621,
    "start_time": "2022-11-30T03:57:07.610Z"
   },
   {
    "duration": 155,
    "start_time": "2022-11-30T03:57:14.232Z"
   },
   {
    "duration": 101,
    "start_time": "2022-11-30T03:57:14.478Z"
   },
   {
    "duration": 2349,
    "start_time": "2022-11-30T03:57:14.581Z"
   },
   {
    "duration": 147,
    "start_time": "2022-11-30T03:57:16.932Z"
   },
   {
    "duration": 6,
    "start_time": "2022-11-30T03:57:17.080Z"
   },
   {
    "duration": 98,
    "start_time": "2022-11-30T03:57:17.088Z"
   },
   {
    "duration": 85832,
    "start_time": "2022-11-30T03:57:17.188Z"
   },
   {
    "duration": 16264,
    "start_time": "2022-11-30T03:58:43.022Z"
   },
   {
    "duration": 24149,
    "start_time": "2022-11-30T03:58:59.287Z"
   },
   {
    "duration": 27340,
    "start_time": "2022-11-30T03:59:23.438Z"
   },
   {
    "duration": 24662,
    "start_time": "2022-11-30T03:59:50.787Z"
   },
   {
    "duration": 41427,
    "start_time": "2022-11-30T04:00:15.451Z"
   },
   {
    "duration": 77580,
    "start_time": "2022-11-30T04:00:56.880Z"
   },
   {
    "duration": 30922,
    "start_time": "2022-11-30T04:02:14.462Z"
   },
   {
    "duration": 222,
    "start_time": "2022-11-30T04:02:45.385Z"
   },
   {
    "duration": 6190,
    "start_time": "2022-11-30T04:02:45.609Z"
   },
   {
    "duration": 12870,
    "start_time": "2022-12-03T07:32:48.709Z"
   },
   {
    "duration": 97,
    "start_time": "2022-12-03T07:33:01.581Z"
   },
   {
    "duration": 1,
    "start_time": "2022-12-03T07:33:01.680Z"
   },
   {
    "duration": 0,
    "start_time": "2022-12-03T07:33:01.682Z"
   },
   {
    "duration": 0,
    "start_time": "2022-12-03T07:33:01.683Z"
   },
   {
    "duration": 0,
    "start_time": "2022-12-03T07:33:01.684Z"
   },
   {
    "duration": 0,
    "start_time": "2022-12-03T07:33:01.685Z"
   },
   {
    "duration": 1,
    "start_time": "2022-12-03T07:33:01.686Z"
   },
   {
    "duration": 0,
    "start_time": "2022-12-03T07:33:01.688Z"
   },
   {
    "duration": 0,
    "start_time": "2022-12-03T07:33:01.690Z"
   },
   {
    "duration": 0,
    "start_time": "2022-12-03T07:33:01.691Z"
   },
   {
    "duration": 0,
    "start_time": "2022-12-03T07:33:01.692Z"
   },
   {
    "duration": 0,
    "start_time": "2022-12-03T07:33:01.693Z"
   },
   {
    "duration": 0,
    "start_time": "2022-12-03T07:33:01.695Z"
   },
   {
    "duration": 0,
    "start_time": "2022-12-03T07:33:01.696Z"
   },
   {
    "duration": 0,
    "start_time": "2022-12-03T07:33:01.697Z"
   },
   {
    "duration": 0,
    "start_time": "2022-12-03T07:33:01.698Z"
   },
   {
    "duration": 0,
    "start_time": "2022-12-03T07:33:01.700Z"
   },
   {
    "duration": 0,
    "start_time": "2022-12-03T07:33:01.701Z"
   },
   {
    "duration": 0,
    "start_time": "2022-12-03T07:33:01.702Z"
   },
   {
    "duration": 0,
    "start_time": "2022-12-03T07:33:01.703Z"
   },
   {
    "duration": 0,
    "start_time": "2022-12-03T07:33:01.704Z"
   },
   {
    "duration": 0,
    "start_time": "2022-12-03T07:33:01.705Z"
   },
   {
    "duration": 0,
    "start_time": "2022-12-03T07:33:01.778Z"
   },
   {
    "duration": 0,
    "start_time": "2022-12-03T07:33:01.781Z"
   },
   {
    "duration": 0,
    "start_time": "2022-12-03T07:33:01.782Z"
   },
   {
    "duration": 0,
    "start_time": "2022-12-03T07:33:01.783Z"
   },
   {
    "duration": 0,
    "start_time": "2022-12-03T07:33:01.784Z"
   },
   {
    "duration": 0,
    "start_time": "2022-12-03T07:33:01.785Z"
   },
   {
    "duration": 0,
    "start_time": "2022-12-03T07:33:01.787Z"
   },
   {
    "duration": 0,
    "start_time": "2022-12-03T07:33:01.787Z"
   },
   {
    "duration": 0,
    "start_time": "2022-12-03T07:33:01.789Z"
   },
   {
    "duration": 0,
    "start_time": "2022-12-03T07:33:01.790Z"
   },
   {
    "duration": 0,
    "start_time": "2022-12-03T07:33:01.791Z"
   },
   {
    "duration": 0,
    "start_time": "2022-12-03T07:33:01.792Z"
   },
   {
    "duration": 0,
    "start_time": "2022-12-03T07:33:01.793Z"
   },
   {
    "duration": 0,
    "start_time": "2022-12-03T07:33:01.795Z"
   },
   {
    "duration": 7134,
    "start_time": "2022-12-03T12:19:10.606Z"
   },
   {
    "duration": 2360,
    "start_time": "2022-12-03T12:19:30.699Z"
   },
   {
    "duration": 984,
    "start_time": "2022-12-03T12:19:33.061Z"
   },
   {
    "duration": 157,
    "start_time": "2022-12-03T12:19:34.047Z"
   },
   {
    "duration": 27,
    "start_time": "2022-12-03T12:19:34.206Z"
   },
   {
    "duration": 22,
    "start_time": "2022-12-03T12:19:34.235Z"
   },
   {
    "duration": 65,
    "start_time": "2022-12-03T12:19:34.259Z"
   },
   {
    "duration": 18,
    "start_time": "2022-12-03T12:19:34.325Z"
   },
   {
    "duration": 19,
    "start_time": "2022-12-03T12:19:34.345Z"
   },
   {
    "duration": 7,
    "start_time": "2022-12-03T12:19:34.366Z"
   },
   {
    "duration": 45,
    "start_time": "2022-12-03T12:19:34.374Z"
   },
   {
    "duration": 1788,
    "start_time": "2022-12-03T12:19:34.421Z"
   },
   {
    "duration": 90,
    "start_time": "2022-12-03T12:19:36.211Z"
   },
   {
    "duration": 53,
    "start_time": "2022-12-03T12:19:36.303Z"
   },
   {
    "duration": 13,
    "start_time": "2022-12-03T12:19:36.359Z"
   },
   {
    "duration": 84,
    "start_time": "2022-12-03T12:19:36.378Z"
   },
   {
    "duration": 8213,
    "start_time": "2022-12-03T12:19:36.464Z"
   },
   {
    "duration": 19760,
    "start_time": "2022-12-03T12:19:44.679Z"
   },
   {
    "duration": 106,
    "start_time": "2022-12-03T12:20:04.442Z"
   },
   {
    "duration": 15,
    "start_time": "2022-12-03T12:20:04.550Z"
   },
   {
    "duration": 8277,
    "start_time": "2022-12-03T12:20:04.566Z"
   },
   {
    "duration": 15100,
    "start_time": "2022-12-03T12:20:12.845Z"
   },
   {
    "duration": 101,
    "start_time": "2022-12-03T12:20:27.947Z"
   },
   {
    "duration": 4533,
    "start_time": "2022-12-03T12:20:28.050Z"
   },
   {
    "duration": 5254,
    "start_time": "2022-12-03T12:20:32.585Z"
   },
   {
    "duration": 97,
    "start_time": "2022-12-03T12:20:37.841Z"
   },
   {
    "duration": 5,
    "start_time": "2022-12-03T12:20:37.940Z"
   },
   {
    "duration": 13070,
    "start_time": "2022-12-03T12:20:37.947Z"
   },
   {
    "duration": 25321,
    "start_time": "2022-12-03T12:20:51.019Z"
   },
   {
    "duration": 5638,
    "start_time": "2022-12-03T12:21:16.342Z"
   },
   {
    "duration": 33157,
    "start_time": "2022-12-03T12:21:21.982Z"
   },
   {
    "duration": 9706,
    "start_time": "2022-12-03T12:21:55.141Z"
   },
   {
    "duration": 47099,
    "start_time": "2022-12-03T12:22:04.849Z"
   },
   {
    "duration": 14942,
    "start_time": "2022-12-03T12:22:52.039Z"
   },
   {
    "duration": 40738,
    "start_time": "2022-12-03T12:23:06.983Z"
   },
   {
    "duration": 29,
    "start_time": "2022-12-03T12:23:47.723Z"
   },
   {
    "duration": 398,
    "start_time": "2022-12-03T12:23:47.754Z"
   },
   {
    "duration": 3241,
    "start_time": "2022-12-03T12:23:48.154Z"
   },
   {
    "duration": 3129,
    "start_time": "2022-12-03T12:49:18.527Z"
   },
   {
    "duration": 11012,
    "start_time": "2022-12-05T15:45:37.833Z"
   },
   {
    "duration": 86,
    "start_time": "2022-12-05T15:45:48.847Z"
   },
   {
    "duration": 0,
    "start_time": "2022-12-05T15:45:48.936Z"
   },
   {
    "duration": 0,
    "start_time": "2022-12-05T15:45:48.937Z"
   },
   {
    "duration": 0,
    "start_time": "2022-12-05T15:45:48.939Z"
   },
   {
    "duration": 0,
    "start_time": "2022-12-05T15:45:48.940Z"
   },
   {
    "duration": 0,
    "start_time": "2022-12-05T15:45:48.940Z"
   },
   {
    "duration": 0,
    "start_time": "2022-12-05T15:45:48.941Z"
   },
   {
    "duration": 0,
    "start_time": "2022-12-05T15:45:48.942Z"
   },
   {
    "duration": 0,
    "start_time": "2022-12-05T15:45:48.943Z"
   },
   {
    "duration": 0,
    "start_time": "2022-12-05T15:45:48.944Z"
   },
   {
    "duration": 0,
    "start_time": "2022-12-05T15:45:48.944Z"
   },
   {
    "duration": 0,
    "start_time": "2022-12-05T15:45:48.945Z"
   },
   {
    "duration": 0,
    "start_time": "2022-12-05T15:45:48.946Z"
   },
   {
    "duration": 0,
    "start_time": "2022-12-05T15:45:48.947Z"
   },
   {
    "duration": 0,
    "start_time": "2022-12-05T15:45:48.948Z"
   },
   {
    "duration": 0,
    "start_time": "2022-12-05T15:45:48.950Z"
   },
   {
    "duration": 0,
    "start_time": "2022-12-05T15:45:48.951Z"
   },
   {
    "duration": 0,
    "start_time": "2022-12-05T15:45:48.952Z"
   },
   {
    "duration": 0,
    "start_time": "2022-12-05T15:45:48.953Z"
   },
   {
    "duration": 0,
    "start_time": "2022-12-05T15:45:48.954Z"
   },
   {
    "duration": 0,
    "start_time": "2022-12-05T15:45:48.955Z"
   },
   {
    "duration": 0,
    "start_time": "2022-12-05T15:45:48.956Z"
   },
   {
    "duration": 0,
    "start_time": "2022-12-05T15:45:48.957Z"
   },
   {
    "duration": 0,
    "start_time": "2022-12-05T15:45:48.958Z"
   },
   {
    "duration": 0,
    "start_time": "2022-12-05T15:45:48.959Z"
   },
   {
    "duration": 0,
    "start_time": "2022-12-05T15:45:49.027Z"
   },
   {
    "duration": 0,
    "start_time": "2022-12-05T15:45:49.029Z"
   },
   {
    "duration": 0,
    "start_time": "2022-12-05T15:45:49.030Z"
   },
   {
    "duration": 0,
    "start_time": "2022-12-05T15:45:49.031Z"
   },
   {
    "duration": 0,
    "start_time": "2022-12-05T15:45:49.033Z"
   },
   {
    "duration": 0,
    "start_time": "2022-12-05T15:45:49.034Z"
   },
   {
    "duration": 0,
    "start_time": "2022-12-05T15:45:49.036Z"
   },
   {
    "duration": 0,
    "start_time": "2022-12-05T15:45:49.037Z"
   },
   {
    "duration": 0,
    "start_time": "2022-12-05T15:45:49.038Z"
   },
   {
    "duration": 0,
    "start_time": "2022-12-05T15:45:49.041Z"
   },
   {
    "duration": 0,
    "start_time": "2022-12-05T15:45:49.042Z"
   },
   {
    "duration": 1979,
    "start_time": "2022-12-05T15:46:10.202Z"
   },
   {
    "duration": 9,
    "start_time": "2022-12-05T15:46:12.183Z"
   },
   {
    "duration": 0,
    "start_time": "2022-12-05T15:46:12.194Z"
   },
   {
    "duration": 0,
    "start_time": "2022-12-05T15:46:12.195Z"
   },
   {
    "duration": 0,
    "start_time": "2022-12-05T15:46:12.196Z"
   },
   {
    "duration": 0,
    "start_time": "2022-12-05T15:46:12.197Z"
   },
   {
    "duration": 0,
    "start_time": "2022-12-05T15:46:12.198Z"
   },
   {
    "duration": 0,
    "start_time": "2022-12-05T15:46:12.199Z"
   },
   {
    "duration": 0,
    "start_time": "2022-12-05T15:46:12.200Z"
   },
   {
    "duration": 0,
    "start_time": "2022-12-05T15:46:12.201Z"
   },
   {
    "duration": 0,
    "start_time": "2022-12-05T15:46:12.202Z"
   },
   {
    "duration": 0,
    "start_time": "2022-12-05T15:46:12.203Z"
   },
   {
    "duration": 0,
    "start_time": "2022-12-05T15:46:12.204Z"
   },
   {
    "duration": 0,
    "start_time": "2022-12-05T15:46:12.205Z"
   },
   {
    "duration": 0,
    "start_time": "2022-12-05T15:46:12.206Z"
   },
   {
    "duration": 0,
    "start_time": "2022-12-05T15:46:12.207Z"
   },
   {
    "duration": 0,
    "start_time": "2022-12-05T15:46:12.208Z"
   },
   {
    "duration": 0,
    "start_time": "2022-12-05T15:46:12.208Z"
   },
   {
    "duration": 0,
    "start_time": "2022-12-05T15:46:12.209Z"
   },
   {
    "duration": 0,
    "start_time": "2022-12-05T15:46:12.210Z"
   },
   {
    "duration": 0,
    "start_time": "2022-12-05T15:46:12.211Z"
   },
   {
    "duration": 0,
    "start_time": "2022-12-05T15:46:12.212Z"
   },
   {
    "duration": 0,
    "start_time": "2022-12-05T15:46:12.213Z"
   },
   {
    "duration": 0,
    "start_time": "2022-12-05T15:46:12.214Z"
   },
   {
    "duration": 0,
    "start_time": "2022-12-05T15:46:12.215Z"
   },
   {
    "duration": 0,
    "start_time": "2022-12-05T15:46:12.216Z"
   },
   {
    "duration": 0,
    "start_time": "2022-12-05T15:46:12.217Z"
   },
   {
    "duration": 0,
    "start_time": "2022-12-05T15:46:12.218Z"
   },
   {
    "duration": 0,
    "start_time": "2022-12-05T15:46:12.219Z"
   },
   {
    "duration": 0,
    "start_time": "2022-12-05T15:46:12.220Z"
   },
   {
    "duration": 0,
    "start_time": "2022-12-05T15:46:12.221Z"
   },
   {
    "duration": 0,
    "start_time": "2022-12-05T15:46:12.222Z"
   },
   {
    "duration": 0,
    "start_time": "2022-12-05T15:46:12.223Z"
   },
   {
    "duration": 0,
    "start_time": "2022-12-05T15:46:12.224Z"
   },
   {
    "duration": 0,
    "start_time": "2022-12-05T15:46:12.226Z"
   },
   {
    "duration": 0,
    "start_time": "2022-12-05T15:46:12.227Z"
   },
   {
    "duration": 0,
    "start_time": "2022-12-05T15:46:12.228Z"
   },
   {
    "duration": 2027,
    "start_time": "2022-12-05T15:46:29.283Z"
   },
   {
    "duration": 1183,
    "start_time": "2022-12-05T15:46:31.313Z"
   },
   {
    "duration": 41,
    "start_time": "2022-12-05T15:46:32.498Z"
   },
   {
    "duration": 18,
    "start_time": "2022-12-05T15:46:32.541Z"
   },
   {
    "duration": 38,
    "start_time": "2022-12-05T15:46:32.561Z"
   },
   {
    "duration": 30,
    "start_time": "2022-12-05T15:46:32.601Z"
   },
   {
    "duration": 19,
    "start_time": "2022-12-05T15:46:32.633Z"
   },
   {
    "duration": 28,
    "start_time": "2022-12-05T15:46:32.654Z"
   },
   {
    "duration": 65,
    "start_time": "2022-12-05T15:46:32.684Z"
   },
   {
    "duration": 77,
    "start_time": "2022-12-05T15:46:32.751Z"
   },
   {
    "duration": 1248,
    "start_time": "2022-12-05T15:46:32.830Z"
   },
   {
    "duration": 93,
    "start_time": "2022-12-05T15:46:34.081Z"
   },
   {
    "duration": 25,
    "start_time": "2022-12-05T15:46:34.176Z"
   },
   {
    "duration": 26,
    "start_time": "2022-12-05T15:46:34.203Z"
   },
   {
    "duration": 60,
    "start_time": "2022-12-05T15:46:34.231Z"
   },
   {
    "duration": 50785,
    "start_time": "2022-12-05T15:46:34.292Z"
   },
   {
    "duration": 17262,
    "start_time": "2022-12-05T15:47:25.078Z"
   },
   {
    "duration": 16,
    "start_time": "2022-12-05T15:47:42.342Z"
   },
   {
    "duration": 31,
    "start_time": "2022-12-05T15:47:42.360Z"
   },
   {
    "duration": 60384,
    "start_time": "2022-12-05T15:47:42.393Z"
   },
   {
    "duration": 13656,
    "start_time": "2022-12-05T15:48:42.778Z"
   },
   {
    "duration": 15,
    "start_time": "2022-12-05T15:48:56.436Z"
   },
   {
    "duration": 21088,
    "start_time": "2022-12-05T15:48:56.453Z"
   },
   {
    "duration": 5297,
    "start_time": "2022-12-05T15:49:17.543Z"
   },
   {
    "duration": 5,
    "start_time": "2022-12-05T15:49:22.842Z"
   },
   {
    "duration": 18,
    "start_time": "2022-12-05T15:49:22.849Z"
   },
   {
    "duration": 75462,
    "start_time": "2022-12-05T15:49:22.868Z"
   },
   {
    "duration": 20500,
    "start_time": "2022-12-05T15:50:38.333Z"
   },
   {
    "duration": 34765,
    "start_time": "2022-12-05T15:50:58.834Z"
   },
   {
    "duration": 29517,
    "start_time": "2022-12-05T15:51:33.600Z"
   },
   {
    "duration": 70908,
    "start_time": "2022-12-05T15:52:03.119Z"
   },
   {
    "duration": 40205,
    "start_time": "2022-12-05T15:53:14.029Z"
   },
   {
    "duration": 92901,
    "start_time": "2022-12-05T15:53:54.235Z"
   },
   {
    "duration": 33540,
    "start_time": "2022-12-05T15:55:27.137Z"
   },
   {
    "duration": 22,
    "start_time": "2022-12-05T15:56:00.679Z"
   },
   {
    "duration": 53,
    "start_time": "2022-12-05T15:56:00.703Z"
   },
   {
    "duration": 1914,
    "start_time": "2022-12-05T15:56:00.758Z"
   }
  ],
  "kernelspec": {
   "display_name": "Python 3 (ipykernel)",
   "language": "python",
   "name": "python3"
  },
  "language_info": {
   "codemirror_mode": {
    "name": "ipython",
    "version": 3
   },
   "file_extension": ".py",
   "mimetype": "text/x-python",
   "name": "python",
   "nbconvert_exporter": "python",
   "pygments_lexer": "ipython3",
   "version": "3.9.12"
  },
  "toc": {
   "base_numbering": 1,
   "nav_menu": {
    "height": "143px",
    "width": "402px"
   },
   "number_sections": true,
   "sideBar": true,
   "skip_h1_title": true,
   "title_cell": "Содержание",
   "title_sidebar": "Содержание",
   "toc_cell": true,
   "toc_position": {
    "height": "calc(100% - 180px)",
    "left": "10px",
    "top": "150px",
    "width": "190px"
   },
   "toc_section_display": true,
   "toc_window_display": true
  }
 },
 "nbformat": 4,
 "nbformat_minor": 2
}
